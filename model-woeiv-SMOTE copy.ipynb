{
 "cells": [
  {
   "cell_type": "code",
   "execution_count": 31,
   "metadata": {},
   "outputs": [],
   "source": [
    "from sklearn.linear_model import LogisticRegression\n",
    "from sklearn.tree import DecisionTreeClassifier\n",
    "from sklearn.model_selection import cross_val_score\n",
    "import pandas as pd\n",
    "import numpy as np\n",
    "\n",
    "from sklearn.metrics import roc_auc_score, roc_curve\n",
    "from sklearn.metrics import classification_report\n",
    "from sklearn.pipeline import Pipeline\n",
    "from sklearn.preprocessing import StandardScaler\n"
   ]
  },
  {
   "cell_type": "code",
   "execution_count": 32,
   "metadata": {},
   "outputs": [],
   "source": [
    "X = pd.read_csv('X_resample_SMOTE.csv')\n",
    "y = pd.read_csv('y_resample_SMOTE.csv')\n",
    "test = pd.read_csv('test.csv')"
   ]
  },
  {
   "cell_type": "code",
   "execution_count": 33,
   "metadata": {},
   "outputs": [],
   "source": [
    "def calculate_woe_iv(data, feature, target, bins=10):\n",
    "    \"\"\"\n",
    "    Calculate Weight of Evidence (WoE) and Information Value (IV) for a given feature.\n",
    "\n",
    "    Args:\n",
    "    - data (pd.DataFrame): DataFrame containing the feature and target.\n",
    "    - feature (str or pd.Series): The feature column name or Series object.\n",
    "    - target (str): The target column name (binary: 0 or 1).\n",
    "    - bins (int or list): Number of bins or specific bin edges.\n",
    "\n",
    "    Returns:\n",
    "    - woe_df (pd.DataFrame): DataFrame with WoE and IV for each bin.\n",
    "    - iv (float): Information Value of the feature.\n",
    "    \"\"\"\n",
    "    # Check if `feature` is a column name or Series\n",
    "    if isinstance(feature, str):\n",
    "        feature_series = data[feature]\n",
    "    elif isinstance(feature, pd.Series):\n",
    "        feature_series = feature\n",
    "    else:\n",
    "        raise ValueError(\"Feature must be either a column name (str) or a pandas Series.\")\n",
    "    \n",
    "    # Bin the feature\n",
    "    if isinstance(bins, int):\n",
    "        data['bin'] = pd.qcut(feature_series, q=bins, duplicates='drop')\n",
    "    else:\n",
    "        data['bin'] = pd.cut(feature_series, bins=bins)\n",
    "    \n",
    "    # Group by bins and calculate statistics\n",
    "    grouped = data.groupby('bin').agg(\n",
    "        total_count=(target, 'count'),\n",
    "        bad_count=(target, 'sum'),\n",
    "        good_count=(target, lambda x: x.count() - x.sum())\n",
    "    ).reset_index()\n",
    "    \n",
    "    # Add good and bad percentages\n",
    "    grouped['bad_pct'] = grouped['bad_count'] / grouped['bad_count'].sum()\n",
    "    grouped['good_pct'] = grouped['good_count'] / grouped['good_count'].sum()\n",
    "    \n",
    "    # Calculate WoE and handle division by zero\n",
    "    grouped['woe'] = np.log((grouped['good_pct'] + 1e-10) / (grouped['bad_pct'] + 1e-10))\n",
    "    \n",
    "    # Calculate IV\n",
    "    grouped['iv'] = (grouped['good_pct'] - grouped['bad_pct']) * grouped['woe']\n",
    "    iv = grouped['iv'].sum()\n",
    "    \n",
    "    return grouped[['bin', 'woe', 'iv']], iv"
   ]
  },
  {
   "cell_type": "code",
   "execution_count": 34,
   "metadata": {},
   "outputs": [],
   "source": [
    "features = X.columns"
   ]
  },
  {
   "cell_type": "code",
   "execution_count": 35,
   "metadata": {},
   "outputs": [],
   "source": [
    "X['TARGET'] = y['TARGET'].values"
   ]
  },
  {
   "cell_type": "code",
   "execution_count": 36,
   "metadata": {},
   "outputs": [],
   "source": [
    "t = 'TARGET'"
   ]
  },
  {
   "cell_type": "code",
   "execution_count": 37,
   "metadata": {},
   "outputs": [
    {
     "name": "stderr",
     "output_type": "stream",
     "text": [
      "C:\\Users\\nn200\\AppData\\Local\\Temp\\ipykernel_33640\\1823657224.py:30: FutureWarning: The default of observed=False is deprecated and will be changed to True in a future version of pandas. Pass observed=False to retain current behavior or observed=True to adopt the future default and silence this warning.\n",
      "  grouped = data.groupby('bin').agg(\n",
      "C:\\Users\\nn200\\AppData\\Local\\Temp\\ipykernel_33640\\1823657224.py:30: FutureWarning: The default of observed=False is deprecated and will be changed to True in a future version of pandas. Pass observed=False to retain current behavior or observed=True to adopt the future default and silence this warning.\n",
      "  grouped = data.groupby('bin').agg(\n"
     ]
    },
    {
     "name": "stdout",
     "output_type": "stream",
     "text": [
      "Feature: NAME_CONTRACT_TYPE\n",
      "             bin  woe   iv\n",
      "0  (-0.001, 1.0]  0.0  0.0\n",
      "IV: 0.0\n",
      "\n",
      "Feature: CODE_GENDER\n",
      "               bin       woe        iv\n",
      "0  (-0.001, 0.425]  0.219703  0.028846\n",
      "1     (0.425, 1.0] -0.331232  0.043489\n",
      "IV: 0.07233475857210649\n",
      "\n"
     ]
    },
    {
     "name": "stderr",
     "output_type": "stream",
     "text": [
      "C:\\Users\\nn200\\AppData\\Local\\Temp\\ipykernel_33640\\1823657224.py:30: FutureWarning: The default of observed=False is deprecated and will be changed to True in a future version of pandas. Pass observed=False to retain current behavior or observed=True to adopt the future default and silence this warning.\n",
      "  grouped = data.groupby('bin').agg(\n"
     ]
    },
    {
     "name": "stdout",
     "output_type": "stream",
     "text": [
      "Feature: FLAG_OWN_CAR\n",
      "               bin       woe        iv\n",
      "0  (-0.001, 0.106]  0.187219  0.020969\n",
      "1     (0.106, 1.0] -0.281864  0.031570\n",
      "IV: 0.05253966513080642\n",
      "\n",
      "Feature: FLAG_OWN_REALTY\n",
      "               bin       woe        iv\n",
      "0  (-0.001, 0.959] -0.486421  0.092819\n",
      "1     (0.959, 1.0]  0.320758  0.061208\n",
      "IV: 0.15402703220336475\n",
      "\n"
     ]
    },
    {
     "name": "stderr",
     "output_type": "stream",
     "text": [
      "C:\\Users\\nn200\\AppData\\Local\\Temp\\ipykernel_33640\\1823657224.py:30: FutureWarning: The default of observed=False is deprecated and will be changed to True in a future version of pandas. Pass observed=False to retain current behavior or observed=True to adopt the future default and silence this warning.\n",
      "  grouped = data.groupby('bin').agg(\n",
      "C:\\Users\\nn200\\AppData\\Local\\Temp\\ipykernel_33640\\1823657224.py:30: FutureWarning: The default of observed=False is deprecated and will be changed to True in a future version of pandas. Pass observed=False to retain current behavior or observed=True to adopt the future default and silence this warning.\n",
      "  grouped = data.groupby('bin').agg(\n"
     ]
    },
    {
     "name": "stdout",
     "output_type": "stream",
     "text": [
      "Feature: CNT_CHILDREN\n",
      "             bin       woe        iv\n",
      "0  (-0.001, 1.0]  0.048362  0.002056\n",
      "1    (1.0, 19.0] -0.355196  0.015098\n",
      "IV: 0.017153656117695502\n",
      "\n",
      "Feature: AMT_INCOME_TOTAL\n",
      "                bin       woe        iv\n",
      "0  (10.151, 11.537]  0.073529  0.001081\n",
      "1  (11.537, 11.813] -0.010930  0.000033\n",
      "2  (11.813, 11.967] -0.281267  0.009903\n",
      "3   (11.967, 12.28] -0.188250  0.006912\n",
      "4   (12.28, 13.086]  0.303662  0.018302\n",
      "IV: 0.036230994018206716\n",
      "\n"
     ]
    },
    {
     "name": "stderr",
     "output_type": "stream",
     "text": [
      "C:\\Users\\nn200\\AppData\\Local\\Temp\\ipykernel_33640\\1823657224.py:30: FutureWarning: The default of observed=False is deprecated and will be changed to True in a future version of pandas. Pass observed=False to retain current behavior or observed=True to adopt the future default and silence this warning.\n",
      "  grouped = data.groupby('bin').agg(\n",
      "C:\\Users\\nn200\\AppData\\Local\\Temp\\ipykernel_33640\\1823657224.py:30: FutureWarning: The default of observed=False is deprecated and will be changed to True in a future version of pandas. Pass observed=False to retain current behavior or observed=True to adopt the future default and silence this warning.\n",
      "  grouped = data.groupby('bin').agg(\n"
     ]
    },
    {
     "name": "stdout",
     "output_type": "stream",
     "text": [
      "Feature: AMT_CREDIT\n",
      "                            bin       woe        iv\n",
      "0  (10.713000000000001, 12.506]  0.438948  0.040191\n",
      "1              (12.506, 12.945] -0.548566  0.055217\n",
      "2              (12.945, 13.246] -0.299293  0.017823\n",
      "3              (13.246, 13.603] -0.192613  0.007413\n",
      "4              (13.603, 14.408]  0.551593  0.059093\n",
      "IV: 0.17973662242094576\n",
      "\n",
      "Feature: AMT_ANNUITY\n",
      "                bin       woe        iv\n",
      "0    (7.387, 9.674]  0.317015  0.019935\n",
      "1    (9.674, 9.999] -0.217936  0.009462\n",
      "2   (9.999, 10.222] -0.229032  0.010444\n",
      "3  (10.222, 10.475] -0.289701  0.016670\n",
      "4  (10.475, 11.166]  0.424676  0.035535\n",
      "IV: 0.09204636739203008\n",
      "\n"
     ]
    },
    {
     "name": "stderr",
     "output_type": "stream",
     "text": [
      "C:\\Users\\nn200\\AppData\\Local\\Temp\\ipykernel_33640\\1823657224.py:30: FutureWarning: The default of observed=False is deprecated and will be changed to True in a future version of pandas. Pass observed=False to retain current behavior or observed=True to adopt the future default and silence this warning.\n",
      "  grouped = data.groupby('bin').agg(\n",
      "C:\\Users\\nn200\\AppData\\Local\\Temp\\ipykernel_33640\\1823657224.py:30: FutureWarning: The default of observed=False is deprecated and will be changed to True in a future version of pandas. Pass observed=False to retain current behavior or observed=True to adopt the future default and silence this warning.\n",
      "  grouped = data.groupby('bin').agg(\n"
     ]
    },
    {
     "name": "stdout",
     "output_type": "stream",
     "text": [
      "Feature: AMT_GOODS_PRICE\n",
      "                bin       woe        iv\n",
      "0  (10.608, 12.352]  0.413468  0.033713\n",
      "1  (12.352, 12.806] -0.466843  0.042869\n",
      "2  (12.806, 13.076] -0.250300  0.012449\n",
      "3  (13.076, 13.442] -0.175202  0.006201\n",
      "4  (13.442, 14.316]  0.492909  0.047032\n",
      "IV: 0.142262729978393\n",
      "\n",
      "Feature: REGION_POPULATION_RELATIVE\n",
      "                   bin       woe        iv\n",
      "0  (-0.00071, 0.00963]  0.306237  0.018836\n",
      "1    (0.00963, 0.0163] -0.438074  0.037323\n",
      "2     (0.0163, 0.0206] -0.091803  0.001684\n",
      "3     (0.0206, 0.0287] -0.196201  0.008274\n",
      "4     (0.0287, 0.0725]  0.464905  0.039148\n",
      "IV: 0.10526528756658698\n",
      "\n"
     ]
    },
    {
     "name": "stderr",
     "output_type": "stream",
     "text": [
      "C:\\Users\\nn200\\AppData\\Local\\Temp\\ipykernel_33640\\1823657224.py:30: FutureWarning: The default of observed=False is deprecated and will be changed to True in a future version of pandas. Pass observed=False to retain current behavior or observed=True to adopt the future default and silence this warning.\n",
      "  grouped = data.groupby('bin').agg(\n",
      "C:\\Users\\nn200\\AppData\\Local\\Temp\\ipykernel_33640\\1823657224.py:30: FutureWarning: The default of observed=False is deprecated and will be changed to True in a future version of pandas. Pass observed=False to retain current behavior or observed=True to adopt the future default and silence this warning.\n",
      "  grouped = data.groupby('bin').agg(\n"
     ]
    },
    {
     "name": "stdout",
     "output_type": "stream",
     "text": [
      "Feature: OWN_CAR_AGE\n",
      "                bin       woe        iv\n",
      "0  (-1.001, -0.234]  0.187219  0.020969\n",
      "1   (-0.234, 7.564] -0.591479  0.067998\n",
      "2     (7.564, 91.0]  0.014792  0.000044\n",
      "IV: 0.08901166616008162\n",
      "\n",
      "Feature: FLAG_MOBIL\n",
      "             bin  woe   iv\n",
      "0  (-0.001, 1.0]  0.0  0.0\n",
      "IV: 0.0\n",
      "\n"
     ]
    },
    {
     "name": "stderr",
     "output_type": "stream",
     "text": [
      "C:\\Users\\nn200\\AppData\\Local\\Temp\\ipykernel_33640\\1823657224.py:30: FutureWarning: The default of observed=False is deprecated and will be changed to True in a future version of pandas. Pass observed=False to retain current behavior or observed=True to adopt the future default and silence this warning.\n",
      "  grouped = data.groupby('bin').agg(\n",
      "C:\\Users\\nn200\\AppData\\Local\\Temp\\ipykernel_33640\\1823657224.py:30: FutureWarning: The default of observed=False is deprecated and will be changed to True in a future version of pandas. Pass observed=False to retain current behavior or observed=True to adopt the future default and silence this warning.\n",
      "  grouped = data.groupby('bin').agg(\n"
     ]
    },
    {
     "name": "stdout",
     "output_type": "stream",
     "text": [
      "Feature: FLAG_EMP_PHONE\n",
      "             bin  woe   iv\n",
      "0  (-0.001, 1.0]  0.0  0.0\n",
      "IV: 0.0\n",
      "\n",
      "Feature: FLAG_WORK_PHONE\n",
      "               bin       woe        iv\n",
      "0  (-0.001, 0.602]  0.011282  0.000102\n",
      "1     (0.602, 1.0] -0.045136  0.000407\n",
      "IV: 0.0005092121507457285\n",
      "\n"
     ]
    },
    {
     "name": "stderr",
     "output_type": "stream",
     "text": [
      "C:\\Users\\nn200\\AppData\\Local\\Temp\\ipykernel_33640\\1823657224.py:30: FutureWarning: The default of observed=False is deprecated and will be changed to True in a future version of pandas. Pass observed=False to retain current behavior or observed=True to adopt the future default and silence this warning.\n",
      "  grouped = data.groupby('bin').agg(\n",
      "C:\\Users\\nn200\\AppData\\Local\\Temp\\ipykernel_33640\\1823657224.py:30: FutureWarning: The default of observed=False is deprecated and will be changed to True in a future version of pandas. Pass observed=False to retain current behavior or observed=True to adopt the future default and silence this warning.\n",
      "  grouped = data.groupby('bin').agg(\n"
     ]
    },
    {
     "name": "stdout",
     "output_type": "stream",
     "text": [
      "Feature: FLAG_CONT_MOBILE\n",
      "             bin  woe   iv\n",
      "0  (-0.001, 1.0]  0.0  0.0\n",
      "IV: 0.0\n",
      "\n",
      "Feature: FLAG_PHONE\n",
      "               bin       woe        iv\n",
      "0  (-0.001, 0.882] -0.210289  0.035247\n",
      "1     (0.882, 1.0]  0.893043  0.149686\n",
      "IV: 0.18493347109178243\n",
      "\n"
     ]
    },
    {
     "name": "stderr",
     "output_type": "stream",
     "text": [
      "C:\\Users\\nn200\\AppData\\Local\\Temp\\ipykernel_33640\\1823657224.py:30: FutureWarning: The default of observed=False is deprecated and will be changed to True in a future version of pandas. Pass observed=False to retain current behavior or observed=True to adopt the future default and silence this warning.\n",
      "  grouped = data.groupby('bin').agg(\n",
      "C:\\Users\\nn200\\AppData\\Local\\Temp\\ipykernel_33640\\1823657224.py:30: FutureWarning: The default of observed=False is deprecated and will be changed to True in a future version of pandas. Pass observed=False to retain current behavior or observed=True to adopt the future default and silence this warning.\n",
      "  grouped = data.groupby('bin').agg(\n"
     ]
    },
    {
     "name": "stdout",
     "output_type": "stream",
     "text": [
      "Feature: FLAG_EMAIL\n",
      "             bin  woe   iv\n",
      "0  (-0.001, 1.0]  0.0  0.0\n",
      "IV: 0.0\n",
      "\n",
      "Feature: CNT_FAM_MEMBERS\n",
      "              bin       woe        iv\n",
      "0  (0.999, 1.269]  0.192156  0.007362\n",
      "1    (1.269, 2.0]  0.182206  0.015745\n",
      "2      (2.0, 3.0] -0.429164  0.039050\n",
      "3     (3.0, 20.0] -0.311556  0.010511\n",
      "IV: 0.07266812798167531\n",
      "\n"
     ]
    },
    {
     "name": "stderr",
     "output_type": "stream",
     "text": [
      "C:\\Users\\nn200\\AppData\\Local\\Temp\\ipykernel_33640\\1823657224.py:30: FutureWarning: The default of observed=False is deprecated and will be changed to True in a future version of pandas. Pass observed=False to retain current behavior or observed=True to adopt the future default and silence this warning.\n",
      "  grouped = data.groupby('bin').agg(\n",
      "C:\\Users\\nn200\\AppData\\Local\\Temp\\ipykernel_33640\\1823657224.py:30: FutureWarning: The default of observed=False is deprecated and will be changed to True in a future version of pandas. Pass observed=False to retain current behavior or observed=True to adopt the future default and silence this warning.\n",
      "  grouped = data.groupby('bin').agg(\n"
     ]
    },
    {
     "name": "stdout",
     "output_type": "stream",
     "text": [
      "Feature: REGION_RATING_CLIENT\n",
      "            bin        woe        iv\n",
      "0  (0.999, 2.0]   0.275930  0.056416\n",
      "1  (2.0, 2.369] -20.806172  2.260466\n",
      "2  (2.369, 3.0]  -0.488569  0.046812\n",
      "IV: 2.3636952346867446\n",
      "\n",
      "Feature: REGION_RATING_CLIENT_W_CITY\n",
      "            bin        woe        iv\n",
      "0  (0.999, 2.0]   0.260056  0.051362\n",
      "1  (2.0, 2.258] -20.401948  1.479534\n",
      "2  (2.258, 3.0]  -0.646540  0.080807\n",
      "IV: 1.6117033060280073\n",
      "\n"
     ]
    },
    {
     "name": "stderr",
     "output_type": "stream",
     "text": [
      "C:\\Users\\nn200\\AppData\\Local\\Temp\\ipykernel_33640\\1823657224.py:30: FutureWarning: The default of observed=False is deprecated and will be changed to True in a future version of pandas. Pass observed=False to retain current behavior or observed=True to adopt the future default and silence this warning.\n",
      "  grouped = data.groupby('bin').agg(\n",
      "C:\\Users\\nn200\\AppData\\Local\\Temp\\ipykernel_33640\\1823657224.py:30: FutureWarning: The default of observed=False is deprecated and will be changed to True in a future version of pandas. Pass observed=False to retain current behavior or observed=True to adopt the future default and silence this warning.\n",
      "  grouped = data.groupby('bin').agg(\n"
     ]
    },
    {
     "name": "stdout",
     "output_type": "stream",
     "text": [
      "Feature: HOUR_APPR_PROCESS_START\n",
      "                bin       woe        iv\n",
      "0   (-0.001, 9.466]  0.087836  0.001542\n",
      "1     (9.466, 11.0]  0.151260  0.005185\n",
      "2    (11.0, 12.784] -0.757770  0.094823\n",
      "3  (12.784, 14.706] -0.088834  0.001577\n",
      "4    (14.706, 23.0]  0.463405  0.042196\n",
      "IV: 0.145323168659649\n",
      "\n",
      "Feature: REG_REGION_NOT_LIVE_REGION\n",
      "             bin  woe   iv\n",
      "0  (-0.001, 1.0]  0.0  0.0\n",
      "IV: 0.0\n",
      "\n"
     ]
    },
    {
     "name": "stderr",
     "output_type": "stream",
     "text": [
      "C:\\Users\\nn200\\AppData\\Local\\Temp\\ipykernel_33640\\1823657224.py:30: FutureWarning: The default of observed=False is deprecated and will be changed to True in a future version of pandas. Pass observed=False to retain current behavior or observed=True to adopt the future default and silence this warning.\n",
      "  grouped = data.groupby('bin').agg(\n",
      "C:\\Users\\nn200\\AppData\\Local\\Temp\\ipykernel_33640\\1823657224.py:30: FutureWarning: The default of observed=False is deprecated and will be changed to True in a future version of pandas. Pass observed=False to retain current behavior or observed=True to adopt the future default and silence this warning.\n",
      "  grouped = data.groupby('bin').agg(\n"
     ]
    },
    {
     "name": "stdout",
     "output_type": "stream",
     "text": [
      "Feature: REG_REGION_NOT_WORK_REGION\n",
      "             bin  woe   iv\n",
      "0  (-0.001, 1.0]  0.0  0.0\n",
      "IV: 0.0\n",
      "\n",
      "Feature: LIVE_REGION_NOT_WORK_REGION\n",
      "             bin  woe   iv\n",
      "0  (-0.001, 1.0]  0.0  0.0\n",
      "IV: 0.0\n",
      "\n"
     ]
    },
    {
     "name": "stderr",
     "output_type": "stream",
     "text": [
      "C:\\Users\\nn200\\AppData\\Local\\Temp\\ipykernel_33640\\1823657224.py:30: FutureWarning: The default of observed=False is deprecated and will be changed to True in a future version of pandas. Pass observed=False to retain current behavior or observed=True to adopt the future default and silence this warning.\n",
      "  grouped = data.groupby('bin').agg(\n",
      "C:\\Users\\nn200\\AppData\\Local\\Temp\\ipykernel_33640\\1823657224.py:30: FutureWarning: The default of observed=False is deprecated and will be changed to True in a future version of pandas. Pass observed=False to retain current behavior or observed=True to adopt the future default and silence this warning.\n",
      "  grouped = data.groupby('bin').agg(\n"
     ]
    },
    {
     "name": "stdout",
     "output_type": "stream",
     "text": [
      "Feature: REG_CITY_NOT_LIVE_CITY\n",
      "             bin  woe   iv\n",
      "0  (-0.001, 1.0]  0.0  0.0\n",
      "IV: 0.0\n",
      "\n",
      "Feature: REG_CITY_NOT_WORK_CITY\n",
      "               bin       woe        iv\n",
      "0  (-0.001, 0.832] -0.059457  0.002827\n",
      "1     (0.832, 1.0]  0.238888  0.011360\n",
      "IV: 0.014186824968872837\n",
      "\n"
     ]
    },
    {
     "name": "stderr",
     "output_type": "stream",
     "text": [
      "C:\\Users\\nn200\\AppData\\Local\\Temp\\ipykernel_33640\\1823657224.py:30: FutureWarning: The default of observed=False is deprecated and will be changed to True in a future version of pandas. Pass observed=False to retain current behavior or observed=True to adopt the future default and silence this warning.\n",
      "  grouped = data.groupby('bin').agg(\n",
      "C:\\Users\\nn200\\AppData\\Local\\Temp\\ipykernel_33640\\1823657224.py:30: FutureWarning: The default of observed=False is deprecated and will be changed to True in a future version of pandas. Pass observed=False to retain current behavior or observed=True to adopt the future default and silence this warning.\n",
      "  grouped = data.groupby('bin').agg(\n"
     ]
    },
    {
     "name": "stdout",
     "output_type": "stream",
     "text": [
      "Feature: LIVE_CITY_NOT_WORK_CITY\n",
      "               bin       woe        iv\n",
      "0  (-0.001, 0.495]  0.061582  0.003033\n",
      "1     (0.495, 1.0] -0.247505  0.012190\n",
      "IV: 0.015222459830936019\n",
      "\n",
      "Feature: EXT_SOURCE_1\n",
      "                             bin       woe        iv\n",
      "0  (0.013600000000000001, 0.407] -0.532548  0.055418\n",
      "1                 (0.407, 0.502]  0.089077  0.004723\n",
      "2                 (0.502, 0.505] -1.498212  0.008308\n",
      "3                 (0.505, 0.952]  0.284845  0.016118\n",
      "IV: 0.08456785251932157\n",
      "\n"
     ]
    },
    {
     "name": "stderr",
     "output_type": "stream",
     "text": [
      "C:\\Users\\nn200\\AppData\\Local\\Temp\\ipykernel_33640\\1823657224.py:30: FutureWarning: The default of observed=False is deprecated and will be changed to True in a future version of pandas. Pass observed=False to retain current behavior or observed=True to adopt the future default and silence this warning.\n",
      "  grouped = data.groupby('bin').agg(\n",
      "C:\\Users\\nn200\\AppData\\Local\\Temp\\ipykernel_33640\\1823657224.py:30: FutureWarning: The default of observed=False is deprecated and will be changed to True in a future version of pandas. Pass observed=False to retain current behavior or observed=True to adopt the future default and silence this warning.\n",
      "  grouped = data.groupby('bin').agg(\n"
     ]
    },
    {
     "name": "stdout",
     "output_type": "stream",
     "text": [
      "Feature: EXT_SOURCE_2\n",
      "                      bin       woe        iv\n",
      "0  (-0.0009999183, 0.284] -0.621125  0.074771\n",
      "1           (0.284, 0.44] -0.599684  0.069843\n",
      "2           (0.44, 0.554] -0.228732  0.010418\n",
      "3          (0.554, 0.646]  0.282022  0.015803\n",
      "4          (0.646, 0.855]  1.282981  0.290419\n",
      "IV: 0.4612540833605343\n",
      "\n",
      "Feature: EXT_SOURCE_3\n",
      "                  bin       woe        iv\n",
      "0  (-0.000473, 0.314] -0.711270  0.097163\n",
      "1      (0.314, 0.451] -0.571911  0.063662\n",
      "2      (0.451, 0.511]  0.206368  0.010394\n",
      "3      (0.511, 0.611] -0.059274  0.000546\n",
      "4      (0.611, 0.896]  1.146273  0.237007\n",
      "IV: 0.4087721569823295\n",
      "\n"
     ]
    },
    {
     "name": "stderr",
     "output_type": "stream",
     "text": [
      "C:\\Users\\nn200\\AppData\\Local\\Temp\\ipykernel_33640\\1823657224.py:30: FutureWarning: The default of observed=False is deprecated and will be changed to True in a future version of pandas. Pass observed=False to retain current behavior or observed=True to adopt the future default and silence this warning.\n",
      "  grouped = data.groupby('bin').agg(\n",
      "C:\\Users\\nn200\\AppData\\Local\\Temp\\ipykernel_33640\\1823657224.py:30: FutureWarning: The default of observed=False is deprecated and will be changed to True in a future version of pandas. Pass observed=False to retain current behavior or observed=True to adopt the future default and silence this warning.\n",
      "  grouped = data.groupby('bin').agg(\n"
     ]
    },
    {
     "name": "stdout",
     "output_type": "stream",
     "text": [
      "Feature: APARTMENTS_AVG\n",
      "                bin       woe        iv\n",
      "0  (-0.001, 0.0794]  0.099738  0.001990\n",
      "1   (0.0794, 0.115]  0.008046  0.000039\n",
      "2    (0.115, 0.442] -0.129634  0.003221\n",
      "IV: 0.005250016580753935\n",
      "\n",
      "Feature: BASEMENTAREA_AVG\n",
      "                bin       woe        iv\n",
      "0  (-0.001, 0.0721] -0.045814  0.000420\n",
      "1   (0.0721, 0.086]  0.067101  0.002769\n",
      "2    (0.086, 0.336] -0.174147  0.005590\n",
      "IV: 0.008778824050260084\n",
      "\n"
     ]
    },
    {
     "name": "stderr",
     "output_type": "stream",
     "text": [
      "C:\\Users\\nn200\\AppData\\Local\\Temp\\ipykernel_33640\\1823657224.py:30: FutureWarning: The default of observed=False is deprecated and will be changed to True in a future version of pandas. Pass observed=False to retain current behavior or observed=True to adopt the future default and silence this warning.\n",
      "  grouped = data.groupby('bin').agg(\n",
      "C:\\Users\\nn200\\AppData\\Local\\Temp\\ipykernel_33640\\1823657224.py:30: FutureWarning: The default of observed=False is deprecated and will be changed to True in a future version of pandas. Pass observed=False to retain current behavior or observed=True to adopt the future default and silence this warning.\n",
      "  grouped = data.groupby('bin').agg(\n"
     ]
    },
    {
     "name": "stdout",
     "output_type": "stream",
     "text": [
      "Feature: YEARS_BEGINEXPLUATATION_AVG\n",
      "                 bin        woe        iv\n",
      "0  (-0.0001, 0.9777]   0.142698  0.012082\n",
      "1   (0.9777, 0.9778] -18.539644  0.208817\n",
      "2   (0.9778, 0.9829]  -0.760688  0.110454\n",
      "3      (0.9829, 1.0]   0.362902  0.026054\n",
      "IV: 0.35740740657287257\n",
      "\n",
      "Feature: YEARS_BUILD_AVG\n",
      "                 bin        woe        iv\n",
      "0  (-0.0001, 0.7524]  -0.374081  0.027666\n",
      "1   (0.7524, 0.7529]   0.205519  0.025232\n",
      "2    (0.7529, 0.753] -16.152294  0.016714\n",
      "3       (0.753, 1.0]  -0.240055  0.011470\n",
      "IV: 0.08108229984483789\n",
      "\n"
     ]
    },
    {
     "name": "stderr",
     "output_type": "stream",
     "text": [
      "C:\\Users\\nn200\\AppData\\Local\\Temp\\ipykernel_33640\\1823657224.py:30: FutureWarning: The default of observed=False is deprecated and will be changed to True in a future version of pandas. Pass observed=False to retain current behavior or observed=True to adopt the future default and silence this warning.\n",
      "  grouped = data.groupby('bin').agg(\n",
      "C:\\Users\\nn200\\AppData\\Local\\Temp\\ipykernel_33640\\1823657224.py:30: FutureWarning: The default of observed=False is deprecated and will be changed to True in a future version of pandas. Pass observed=False to retain current behavior or observed=True to adopt the future default and silence this warning.\n",
      "  grouped = data.groupby('bin').agg(\n"
     ]
    },
    {
     "name": "stdout",
     "output_type": "stream",
     "text": [
      "Feature: COMMONAREA_AVG\n",
      "                bin       woe        iv\n",
      "0  (-0.001, 0.0335] -0.095547  0.001824\n",
      "1  (0.0335, 0.0413]  0.065434  0.002956\n",
      "2   (0.0413, 0.271] -0.239502  0.006246\n",
      "IV: 0.011025923006351294\n",
      "\n",
      "Feature: ELEVATORS_AVG\n",
      "                 bin       woe        iv\n",
      "0  (-0.001, 0.00781]  0.840211  0.133433\n",
      "1   (0.00781, 0.079] -0.245195  0.037456\n",
      "2       (0.079, 1.0] -0.034798  0.000211\n",
      "IV: 0.1710996902455106\n",
      "\n"
     ]
    },
    {
     "name": "stderr",
     "output_type": "stream",
     "text": [
      "C:\\Users\\nn200\\AppData\\Local\\Temp\\ipykernel_33640\\1823657224.py:30: FutureWarning: The default of observed=False is deprecated and will be changed to True in a future version of pandas. Pass observed=False to retain current behavior or observed=True to adopt the future default and silence this warning.\n",
      "  grouped = data.groupby('bin').agg(\n",
      "C:\\Users\\nn200\\AppData\\Local\\Temp\\ipykernel_33640\\1823657224.py:30: FutureWarning: The default of observed=False is deprecated and will be changed to True in a future version of pandas. Pass observed=False to retain current behavior or observed=True to adopt the future default and silence this warning.\n",
      "  grouped = data.groupby('bin').agg(\n"
     ]
    },
    {
     "name": "stdout",
     "output_type": "stream",
     "text": [
      "Feature: ENTRANCES_AVG\n",
      "               bin       woe        iv\n",
      "0  (-0.001, 0.117]  0.046927  0.000440\n",
      "1    (0.117, 0.15]  0.036421  0.000805\n",
      "2      (0.15, 1.0] -0.163806  0.005160\n",
      "IV: 0.0064055897979586815\n",
      "\n",
      "Feature: FLOORSMAX_AVG\n",
      "               bin       woe        iv\n",
      "0  (-0.001, 0.167]  0.488095  0.058183\n",
      "1   (0.167, 0.227] -0.192723  0.020539\n",
      "2     (0.227, 1.0] -0.064380  0.000813\n",
      "IV: 0.07953542751129883\n",
      "\n"
     ]
    },
    {
     "name": "stderr",
     "output_type": "stream",
     "text": [
      "C:\\Users\\nn200\\AppData\\Local\\Temp\\ipykernel_33640\\1823657224.py:30: FutureWarning: The default of observed=False is deprecated and will be changed to True in a future version of pandas. Pass observed=False to retain current behavior or observed=True to adopt the future default and silence this warning.\n",
      "  grouped = data.groupby('bin').agg(\n",
      "C:\\Users\\nn200\\AppData\\Local\\Temp\\ipykernel_33640\\1823657224.py:30: FutureWarning: The default of observed=False is deprecated and will be changed to True in a future version of pandas. Pass observed=False to retain current behavior or observed=True to adopt the future default and silence this warning.\n",
      "  grouped = data.groupby('bin').agg(\n"
     ]
    },
    {
     "name": "stdout",
     "output_type": "stream",
     "text": [
      "Feature: FLOORSMIN_AVG\n",
      "              bin       woe        iv\n",
      "0  (-0.001, 0.21]  0.162071  0.005242\n",
      "1   (0.21, 0.232] -0.020993  0.000301\n",
      "2    (0.232, 1.0] -0.153430  0.002765\n",
      "IV: 0.008307554688517935\n",
      "\n",
      "Feature: LANDAREA_AVG\n",
      "                bin       woe        iv\n",
      "0  (-0.001, 0.0478]  0.030427  0.000185\n",
      "1  (0.0478, 0.0635]  0.057176  0.002033\n",
      "2    (0.0635, 0.31] -0.235020  0.009786\n",
      "IV: 0.012004020036464927\n",
      "\n"
     ]
    },
    {
     "name": "stderr",
     "output_type": "stream",
     "text": [
      "C:\\Users\\nn200\\AppData\\Local\\Temp\\ipykernel_33640\\1823657224.py:30: FutureWarning: The default of observed=False is deprecated and will be changed to True in a future version of pandas. Pass observed=False to retain current behavior or observed=True to adopt the future default and silence this warning.\n",
      "  grouped = data.groupby('bin').agg(\n",
      "C:\\Users\\nn200\\AppData\\Local\\Temp\\ipykernel_33640\\1823657224.py:30: FutureWarning: The default of observed=False is deprecated and will be changed to True in a future version of pandas. Pass observed=False to retain current behavior or observed=True to adopt the future default and silence this warning.\n",
      "  grouped = data.groupby('bin').agg(\n"
     ]
    },
    {
     "name": "stdout",
     "output_type": "stream",
     "text": [
      "Feature: LIVINGAPARTMENTS_AVG\n",
      "                bin       woe        iv\n",
      "0  (-0.001, 0.0867] -0.131838  0.003471\n",
      "1  (0.0867, 0.0982]  0.078679  0.004149\n",
      "2   (0.0982, 0.379] -0.204632  0.005402\n",
      "IV: 0.013022377991660443\n",
      "\n",
      "Feature: LIVINGAREA_AVG\n",
      "                 bin       woe        iv\n",
      "0   (-1e-05, 0.0662]  0.144890  0.004194\n",
      "1  (0.0662, 0.10417] -0.864388  0.140679\n",
      "2  (0.10417, 0.1042]  0.354004  0.052431\n",
      "3  (0.1042, 0.43942] -0.080748  0.001155\n",
      "IV: 0.1984587258123924\n",
      "\n"
     ]
    },
    {
     "name": "stderr",
     "output_type": "stream",
     "text": [
      "C:\\Users\\nn200\\AppData\\Local\\Temp\\ipykernel_33640\\1823657224.py:30: FutureWarning: The default of observed=False is deprecated and will be changed to True in a future version of pandas. Pass observed=False to retain current behavior or observed=True to adopt the future default and silence this warning.\n",
      "  grouped = data.groupby('bin').agg(\n",
      "C:\\Users\\nn200\\AppData\\Local\\Temp\\ipykernel_33640\\1823657224.py:30: FutureWarning: The default of observed=False is deprecated and will be changed to True in a future version of pandas. Pass observed=False to retain current behavior or observed=True to adopt the future default and silence this warning.\n",
      "  grouped = data.groupby('bin').agg(\n"
     ]
    },
    {
     "name": "stdout",
     "output_type": "stream",
     "text": [
      "Feature: NONLIVINGAPARTMENTS_AVG\n",
      "                  bin       woe        iv\n",
      "0   (-0.001, 0.00432]  0.328707  0.021417\n",
      "1  (0.00432, 0.00888] -0.065629  0.003183\n",
      "2      (0.00888, 1.0] -0.276111  0.004598\n",
      "IV: 0.02919885405713027\n",
      "\n",
      "Feature: NONLIVINGAREA_AVG\n",
      "                 bin       woe        iv\n",
      "0  (-0.001, 0.00677]  0.591737  0.068057\n",
      "1  (0.00677, 0.0252] -0.125045  0.010382\n",
      "2    (0.0252, 0.237] -0.237727  0.007605\n",
      "IV: 0.08604329347936064\n",
      "\n"
     ]
    },
    {
     "name": "stderr",
     "output_type": "stream",
     "text": [
      "C:\\Users\\nn200\\AppData\\Local\\Temp\\ipykernel_33640\\1823657224.py:30: FutureWarning: The default of observed=False is deprecated and will be changed to True in a future version of pandas. Pass observed=False to retain current behavior or observed=True to adopt the future default and silence this warning.\n",
      "  grouped = data.groupby('bin').agg(\n",
      "C:\\Users\\nn200\\AppData\\Local\\Temp\\ipykernel_33640\\1823657224.py:30: FutureWarning: The default of observed=False is deprecated and will be changed to True in a future version of pandas. Pass observed=False to retain current behavior or observed=True to adopt the future default and silence this warning.\n",
      "  grouped = data.groupby('bin').agg(\n"
     ]
    },
    {
     "name": "stdout",
     "output_type": "stream",
     "text": [
      "Feature: YEARS_BUILD_MODE\n",
      "               bin       woe        iv\n",
      "0  (-0.001, 0.759] -0.334934  0.022229\n",
      "1    (0.759, 0.76]  0.192131  0.022195\n",
      "2      (0.76, 1.0] -0.250952  0.012335\n",
      "IV: 0.05675887748053579\n",
      "\n",
      "Feature: EMERGENCYSTATE_MODE\n",
      "               bin       woe        iv\n",
      "0  (-0.001, 0.218]  0.642190  0.159519\n",
      "1   (0.218, 1.951] -3.959434  1.524484\n",
      "2     (1.951, 2.0]  0.344950  0.047130\n",
      "IV: 1.731131894077212\n",
      "\n"
     ]
    },
    {
     "name": "stderr",
     "output_type": "stream",
     "text": [
      "C:\\Users\\nn200\\AppData\\Local\\Temp\\ipykernel_33640\\1823657224.py:30: FutureWarning: The default of observed=False is deprecated and will be changed to True in a future version of pandas. Pass observed=False to retain current behavior or observed=True to adopt the future default and silence this warning.\n",
      "  grouped = data.groupby('bin').agg(\n",
      "C:\\Users\\nn200\\AppData\\Local\\Temp\\ipykernel_33640\\1823657224.py:30: FutureWarning: The default of observed=False is deprecated and will be changed to True in a future version of pandas. Pass observed=False to retain current behavior or observed=True to adopt the future default and silence this warning.\n",
      "  grouped = data.groupby('bin').agg(\n"
     ]
    },
    {
     "name": "stdout",
     "output_type": "stream",
     "text": [
      "Feature: OBS_30_CNT_SOCIAL_CIRCLE\n",
      "              bin       woe        iv\n",
      "0   (-0.001, 1.0]  0.186207  0.021914\n",
      "1    (1.0, 2.795] -0.842056  0.111309\n",
      "2  (2.795, 348.0]  0.072534  0.001052\n",
      "IV: 0.13427542202953305\n",
      "\n",
      "Feature: DEF_30_CNT_SOCIAL_CIRCLE\n",
      "              bin  woe   iv\n",
      "0  (-0.001, 34.0]  0.0  0.0\n",
      "IV: 0.0\n",
      "\n"
     ]
    },
    {
     "name": "stderr",
     "output_type": "stream",
     "text": [
      "C:\\Users\\nn200\\AppData\\Local\\Temp\\ipykernel_33640\\1823657224.py:30: FutureWarning: The default of observed=False is deprecated and will be changed to True in a future version of pandas. Pass observed=False to retain current behavior or observed=True to adopt the future default and silence this warning.\n",
      "  grouped = data.groupby('bin').agg(\n",
      "C:\\Users\\nn200\\AppData\\Local\\Temp\\ipykernel_33640\\1823657224.py:30: FutureWarning: The default of observed=False is deprecated and will be changed to True in a future version of pandas. Pass observed=False to retain current behavior or observed=True to adopt the future default and silence this warning.\n",
      "  grouped = data.groupby('bin').agg(\n"
     ]
    },
    {
     "name": "stdout",
     "output_type": "stream",
     "text": [
      "Feature: OBS_60_CNT_SOCIAL_CIRCLE\n",
      "              bin       woe        iv\n",
      "0   (-0.001, 1.0]  0.182974  0.021277\n",
      "1    (1.0, 2.737] -0.812521  0.101868\n",
      "2  (2.737, 344.0]  0.045446  0.000413\n",
      "IV: 0.1235585063598199\n",
      "\n",
      "Feature: DEF_60_CNT_SOCIAL_CIRCLE\n",
      "              bin  woe   iv\n",
      "0  (-0.001, 24.0]  0.0  0.0\n",
      "IV: 0.0\n",
      "\n"
     ]
    },
    {
     "name": "stderr",
     "output_type": "stream",
     "text": [
      "C:\\Users\\nn200\\AppData\\Local\\Temp\\ipykernel_33640\\1823657224.py:30: FutureWarning: The default of observed=False is deprecated and will be changed to True in a future version of pandas. Pass observed=False to retain current behavior or observed=True to adopt the future default and silence this warning.\n",
      "  grouped = data.groupby('bin').agg(\n",
      "C:\\Users\\nn200\\AppData\\Local\\Temp\\ipykernel_33640\\1823657224.py:30: FutureWarning: The default of observed=False is deprecated and will be changed to True in a future version of pandas. Pass observed=False to retain current behavior or observed=True to adopt the future default and silence this warning.\n",
      "  grouped = data.groupby('bin').agg(\n"
     ]
    },
    {
     "name": "stdout",
     "output_type": "stream",
     "text": [
      "Feature: AMT_REQ_CREDIT_BUREAU_HOUR\n",
      "                 bin       woe        iv\n",
      "0  (-0.001, 0.00123]  0.157661  0.019845\n",
      "1     (0.00123, 3.0] -0.651444  0.081996\n",
      "IV: 0.10184081507410482\n",
      "\n",
      "Feature: AMT_REQ_CREDIT_BUREAU_DAY\n",
      "                 bin       woe        iv\n",
      "0  (-0.001, 0.00127]  0.159475  0.020303\n",
      "1     (0.00127, 9.0] -0.659455  0.083955\n",
      "IV: 0.1042579209194213\n",
      "\n"
     ]
    },
    {
     "name": "stderr",
     "output_type": "stream",
     "text": [
      "C:\\Users\\nn200\\AppData\\Local\\Temp\\ipykernel_33640\\1823657224.py:30: FutureWarning: The default of observed=False is deprecated and will be changed to True in a future version of pandas. Pass observed=False to retain current behavior or observed=True to adopt the future default and silence this warning.\n",
      "  grouped = data.groupby('bin').agg(\n",
      "C:\\Users\\nn200\\AppData\\Local\\Temp\\ipykernel_33640\\1823657224.py:30: FutureWarning: The default of observed=False is deprecated and will be changed to True in a future version of pandas. Pass observed=False to retain current behavior or observed=True to adopt the future default and silence this warning.\n",
      "  grouped = data.groupby('bin').agg(\n"
     ]
    },
    {
     "name": "stdout",
     "output_type": "stream",
     "text": [
      "Feature: AMT_REQ_CREDIT_BUREAU_WEEK\n",
      "               bin       woe        iv\n",
      "0  (-0.001, 0.014]  0.101404  0.008219\n",
      "1     (0.014, 8.0] -0.410959  0.033310\n",
      "IV: 0.04152913524042577\n",
      "\n",
      "Feature: AMT_REQ_CREDIT_BUREAU_MON\n",
      "               bin       woe        iv\n",
      "0  (-0.001, 0.267]  0.059207  0.002915\n",
      "1    (0.267, 27.0] -0.295076  0.014530\n",
      "IV: 0.017445212761538386\n",
      "\n"
     ]
    },
    {
     "name": "stderr",
     "output_type": "stream",
     "text": [
      "C:\\Users\\nn200\\AppData\\Local\\Temp\\ipykernel_33640\\1823657224.py:30: FutureWarning: The default of observed=False is deprecated and will be changed to True in a future version of pandas. Pass observed=False to retain current behavior or observed=True to adopt the future default and silence this warning.\n",
      "  grouped = data.groupby('bin').agg(\n",
      "C:\\Users\\nn200\\AppData\\Local\\Temp\\ipykernel_33640\\1823657224.py:30: FutureWarning: The default of observed=False is deprecated and will be changed to True in a future version of pandas. Pass observed=False to retain current behavior or observed=True to adopt the future default and silence this warning.\n",
      "  grouped = data.groupby('bin').agg(\n"
     ]
    },
    {
     "name": "stdout",
     "output_type": "stream",
     "text": [
      "Feature: AMT_REQ_CREDIT_BUREAU_QRT\n",
      "                bin       woe        iv\n",
      "0  (-0.001, 0.0175]  0.341867  0.069449\n",
      "1   (0.0175, 0.267] -0.751443  0.110862\n",
      "2    (0.267, 261.0] -0.287881  0.016010\n",
      "IV: 0.19632127008277717\n",
      "\n",
      "Feature: AMT_REQ_CREDIT_BUREAU_YEAR\n",
      "               bin       woe        iv\n",
      "0  (-0.001, 0.647]  0.362327  0.025973\n",
      "1    (0.647, 1.35]  0.074969  0.001124\n",
      "2      (1.35, 2.0]  0.030355  0.000268\n",
      "3       (2.0, 3.0] -0.469610  0.030851\n",
      "4      (3.0, 25.0] -0.178837  0.005328\n",
      "IV: 0.06354344252181815\n",
      "\n"
     ]
    },
    {
     "name": "stderr",
     "output_type": "stream",
     "text": [
      "C:\\Users\\nn200\\AppData\\Local\\Temp\\ipykernel_33640\\1823657224.py:30: FutureWarning: The default of observed=False is deprecated and will be changed to True in a future version of pandas. Pass observed=False to retain current behavior or observed=True to adopt the future default and silence this warning.\n",
      "  grouped = data.groupby('bin').agg(\n",
      "C:\\Users\\nn200\\AppData\\Local\\Temp\\ipykernel_33640\\1823657224.py:30: FutureWarning: The default of observed=False is deprecated and will be changed to True in a future version of pandas. Pass observed=False to retain current behavior or observed=True to adopt the future default and silence this warning.\n",
      "  grouped = data.groupby('bin').agg(\n"
     ]
    },
    {
     "name": "stdout",
     "output_type": "stream",
     "text": [
      "Feature: SK_ID_CURR\n",
      "                      bin       woe            iv\n",
      "0     (-0.001, 61748.459]  0.017291  5.979469e-05\n",
      "1   (61748.459, 122679.0] -0.020453  8.366459e-05\n",
      "2  (122679.0, 184102.681] -0.001216  2.957798e-07\n",
      "3  (184102.681, 245958.0]  0.009486  1.799538e-05\n",
      "4    (245958.0, 307510.0] -0.005108  5.217566e-06\n",
      "IV: 0.0001669679981035246\n",
      "\n",
      "Feature: MONTH_DAYS_BIRTH\n",
      "                  bin       woe        iv\n",
      "0  (249.632, 389.533] -0.074192  0.001100\n",
      "1  (389.533, 465.067] -0.399545  0.031512\n",
      "2    (465.067, 543.2] -0.232677  0.010778\n",
      "3      (543.2, 647.0] -0.061329  0.000752\n",
      "4    (647.0, 840.967]  0.801875  0.122115\n",
      "IV: 0.16625720445466322\n",
      "\n"
     ]
    },
    {
     "name": "stderr",
     "output_type": "stream",
     "text": [
      "C:\\Users\\nn200\\AppData\\Local\\Temp\\ipykernel_33640\\1823657224.py:30: FutureWarning: The default of observed=False is deprecated and will be changed to True in a future version of pandas. Pass observed=False to retain current behavior or observed=True to adopt the future default and silence this warning.\n",
      "  grouped = data.groupby('bin').agg(\n",
      "C:\\Users\\nn200\\AppData\\Local\\Temp\\ipykernel_33640\\1823657224.py:30: FutureWarning: The default of observed=False is deprecated and will be changed to True in a future version of pandas. Pass observed=False to retain current behavior or observed=True to adopt the future default and silence this warning.\n",
      "  grouped = data.groupby('bin').agg(\n"
     ]
    },
    {
     "name": "stdout",
     "output_type": "stream",
     "text": [
      "Feature: MONTH_DAYS_EMPLOYED\n",
      "                bin       woe        iv\n",
      "0  (-0.001, 25.458] -0.025163  0.000127\n",
      "1  (25.458, 46.968] -0.470920  0.043551\n",
      "2  (46.968, 75.771] -0.568369  0.062924\n",
      "3    (75.771, 96.0]  0.634922  0.078033\n",
      "4   (96.0, 597.067]  0.433325  0.036972\n",
      "IV: 0.22160602153188547\n",
      "\n",
      "Feature: MONTH_DAYS_REGISTRATION\n",
      "                  bin       woe        iv\n",
      "0      (-0.001, 58.1]  0.228682  0.010414\n",
      "1     (58.1, 115.685] -0.334195  0.022131\n",
      "2    (115.685, 170.1] -0.244739  0.011921\n",
      "3    (170.1, 249.133] -0.179140  0.006401\n",
      "4  (249.133, 518.313]  0.538294  0.056588\n",
      "IV: 0.10745493491372005\n",
      "\n"
     ]
    },
    {
     "name": "stderr",
     "output_type": "stream",
     "text": [
      "C:\\Users\\nn200\\AppData\\Local\\Temp\\ipykernel_33640\\1823657224.py:30: FutureWarning: The default of observed=False is deprecated and will be changed to True in a future version of pandas. Pass observed=False to retain current behavior or observed=True to adopt the future default and silence this warning.\n",
      "  grouped = data.groupby('bin').agg(\n",
      "C:\\Users\\nn200\\AppData\\Local\\Temp\\ipykernel_33640\\1823657224.py:30: FutureWarning: The default of observed=False is deprecated and will be changed to True in a future version of pandas. Pass observed=False to retain current behavior or observed=True to adopt the future default and silence this warning.\n",
      "  grouped = data.groupby('bin').agg(\n"
     ]
    },
    {
     "name": "stdout",
     "output_type": "stream",
     "text": [
      "Feature: MONTH_DAYS_ID_PUBLISH\n",
      "                  bin       woe        iv\n",
      "0    (-0.001, 48.244]  0.058167  0.000677\n",
      "1    (48.244, 83.361] -0.401100  0.031752\n",
      "2   (83.361, 115.465] -0.363999  0.026210\n",
      "3  (115.465, 141.767] -0.035574  0.000253\n",
      "4    (141.767, 239.9]  0.769764  0.112891\n",
      "IV: 0.17178290959707893\n",
      "\n",
      "Feature: MONTH_DAYS_LAST_PHONE_CHANGE\n",
      "                 bin       woe        iv\n",
      "0    (-0.001, 7.212]  0.199165  0.007907\n",
      "1      (7.212, 17.9] -0.303572  0.018298\n",
      "2     (17.9, 31.233] -0.325956  0.021056\n",
      "3   (31.233, 51.933] -0.176604  0.006227\n",
      "4  (51.933, 114.853]  0.621971  0.074903\n",
      "IV: 0.12839149319649779\n",
      "\n"
     ]
    },
    {
     "name": "stderr",
     "output_type": "stream",
     "text": [
      "C:\\Users\\nn200\\AppData\\Local\\Temp\\ipykernel_33640\\1823657224.py:30: FutureWarning: The default of observed=False is deprecated and will be changed to True in a future version of pandas. Pass observed=False to retain current behavior or observed=True to adopt the future default and silence this warning.\n",
      "  grouped = data.groupby('bin').agg(\n",
      "C:\\Users\\nn200\\AppData\\Local\\Temp\\ipykernel_33640\\1823657224.py:30: FutureWarning: The default of observed=False is deprecated and will be changed to True in a future version of pandas. Pass observed=False to retain current behavior or observed=True to adopt the future default and silence this warning.\n",
      "  grouped = data.groupby('bin').agg(\n"
     ]
    },
    {
     "name": "stdout",
     "output_type": "stream",
     "text": [
      "Feature: NUM_DOCUMENTS\n",
      "             bin       woe        iv\n",
      "0  (-0.001, 1.0]  0.001259  0.000002\n",
      "1     (1.0, 3.0] -0.045214  0.000055\n",
      "IV: 5.692652215394384e-05\n",
      "\n",
      "Feature: DAY_APPR_PROCESS_START\n",
      "               bin       woe        iv\n",
      "0  (-0.001, 0.824] -0.372754  0.027472\n",
      "1     (0.824, 1.0]  0.092190  0.006794\n",
      "IV: 0.03426636962586617\n",
      "\n"
     ]
    },
    {
     "name": "stderr",
     "output_type": "stream",
     "text": [
      "C:\\Users\\nn200\\AppData\\Local\\Temp\\ipykernel_33640\\1823657224.py:30: FutureWarning: The default of observed=False is deprecated and will be changed to True in a future version of pandas. Pass observed=False to retain current behavior or observed=True to adopt the future default and silence this warning.\n",
      "  grouped = data.groupby('bin').agg(\n",
      "C:\\Users\\nn200\\AppData\\Local\\Temp\\ipykernel_33640\\1823657224.py:30: FutureWarning: The default of observed=False is deprecated and will be changed to True in a future version of pandas. Pass observed=False to retain current behavior or observed=True to adopt the future default and silence this warning.\n",
      "  grouped = data.groupby('bin').agg(\n"
     ]
    },
    {
     "name": "stdout",
     "output_type": "stream",
     "text": [
      "Feature: CREDIT_BY_INCOME\n",
      "               bin       woe        iv\n",
      "0    (0.0924, 2.0]  0.438092  0.038504\n",
      "1     (2.0, 2.866] -0.202843  0.008044\n",
      "2   (2.866, 3.876] -0.287572  0.016426\n",
      "3   (3.876, 5.513] -0.195528  0.007622\n",
      "4  (5.513, 70.524]  0.240503  0.011513\n",
      "IV: 0.08210997007830982\n",
      "\n",
      "Feature: ANNUITY_BY_INCOME\n",
      "                             bin       woe        iv\n",
      "0  (0.007699999999999999, 0.112]  0.378433  0.028306\n",
      "1                 (0.112, 0.149] -0.051331  0.000527\n",
      "2                 (0.149, 0.188] -0.176437  0.006210\n",
      "3                 (0.188, 0.243] -0.193520  0.007467\n",
      "4                 (0.243, 1.876]  0.046242  0.000428\n",
      "IV: 0.04293651786526858\n",
      "\n"
     ]
    },
    {
     "name": "stderr",
     "output_type": "stream",
     "text": [
      "C:\\Users\\nn200\\AppData\\Local\\Temp\\ipykernel_33640\\1823657224.py:30: FutureWarning: The default of observed=False is deprecated and will be changed to True in a future version of pandas. Pass observed=False to retain current behavior or observed=True to adopt the future default and silence this warning.\n",
      "  grouped = data.groupby('bin').agg(\n",
      "C:\\Users\\nn200\\AppData\\Local\\Temp\\ipykernel_33640\\1823657224.py:30: FutureWarning: The default of observed=False is deprecated and will be changed to True in a future version of pandas. Pass observed=False to retain current behavior or observed=True to adopt the future default and silence this warning.\n",
      "  grouped = data.groupby('bin').agg(\n"
     ]
    },
    {
     "name": "stdout",
     "output_type": "stream",
     "text": [
      "Feature: GOODS_PRICE_BY_INCOME\n",
      "               bin       woe        iv\n",
      "0  (0.0924, 1.778]  0.341660  0.023153\n",
      "1   (1.778, 2.522] -0.172256  0.005912\n",
      "2   (2.522, 3.374] -0.258334  0.013274\n",
      "3   (3.374, 4.911] -0.246248  0.012067\n",
      "4  (4.911, 64.294]  0.337871  0.022617\n",
      "IV: 0.07702145675665352\n",
      "\n",
      "Feature: INCOME_PER_PERSON\n",
      "                      bin       woe        iv\n",
      "0     (2812.499, 45000.0] -0.086959  0.001928\n",
      "1      (45000.0, 63000.0] -0.006946  0.000007\n",
      "2      (63000.0, 90000.0] -0.007049  0.000013\n",
      "3     (90000.0, 126000.0]  0.061436  0.000540\n",
      "4  (126000.0, 482047.958]  0.081670  0.001324\n",
      "IV: 0.003812334743975854\n",
      "\n"
     ]
    },
    {
     "name": "stderr",
     "output_type": "stream",
     "text": [
      "C:\\Users\\nn200\\AppData\\Local\\Temp\\ipykernel_33640\\1823657224.py:30: FutureWarning: The default of observed=False is deprecated and will be changed to True in a future version of pandas. Pass observed=False to retain current behavior or observed=True to adopt the future default and silence this warning.\n",
      "  grouped = data.groupby('bin').agg(\n",
      "C:\\Users\\nn200\\AppData\\Local\\Temp\\ipykernel_33640\\1823657224.py:30: FutureWarning: The default of observed=False is deprecated and will be changed to True in a future version of pandas. Pass observed=False to retain current behavior or observed=True to adopt the future default and silence this warning.\n",
      "  grouped = data.groupby('bin').agg(\n"
     ]
    },
    {
     "name": "stdout",
     "output_type": "stream",
     "text": [
      "Feature: CNT_ADULTS\n",
      "            bin  woe   iv\n",
      "0  (0.999, 2.0]  0.0  0.0\n",
      "IV: 0.0\n",
      "\n",
      "Feature: CHILDREN_RATIO\n",
      "               bin       woe        iv\n",
      "0  (-0.001, 0.333]  0.038878  0.001283\n",
      "1    (0.333, 0.95] -0.219805  0.007256\n",
      "IV: 0.008539540038388086\n",
      "\n"
     ]
    },
    {
     "name": "stderr",
     "output_type": "stream",
     "text": [
      "C:\\Users\\nn200\\AppData\\Local\\Temp\\ipykernel_33640\\1823657224.py:30: FutureWarning: The default of observed=False is deprecated and will be changed to True in a future version of pandas. Pass observed=False to retain current behavior or observed=True to adopt the future default and silence this warning.\n",
      "  grouped = data.groupby('bin').agg(\n",
      "C:\\Users\\nn200\\AppData\\Local\\Temp\\ipykernel_33640\\1823657224.py:30: FutureWarning: The default of observed=False is deprecated and will be changed to True in a future version of pandas. Pass observed=False to retain current behavior or observed=True to adopt the future default and silence this warning.\n",
      "  grouped = data.groupby('bin').agg(\n"
     ]
    },
    {
     "name": "stdout",
     "output_type": "stream",
     "text": [
      "Feature: ANNUITY_LENGTH\n",
      "                           bin       woe        iv\n",
      "0  (8.036000000000001, 14.966]  0.243011  0.011753\n",
      "1             (14.966, 19.379] -0.616474  0.073688\n",
      "2             (19.379, 21.306]  0.085732  0.001469\n",
      "3             (21.306, 27.501] -0.217877  0.009457\n",
      "4             (27.501, 45.305]  0.497164  0.048441\n",
      "IV: 0.1448076437165166\n",
      "\n",
      "Feature: EXT_SOURCE_MEAN\n",
      "                   bin       woe        iv\n",
      "0  (-0.0009885, 0.326] -1.044305  0.200241\n",
      "1       (0.326, 0.421] -0.684057  0.090100\n",
      "2       (0.421, 0.503] -0.172160  0.005913\n",
      "3       (0.503, 0.597]  0.472696  0.043874\n",
      "4       (0.597, 0.879]  1.594429  0.422508\n",
      "IV: 0.762636343120367\n",
      "\n"
     ]
    },
    {
     "name": "stderr",
     "output_type": "stream",
     "text": [
      "C:\\Users\\nn200\\AppData\\Local\\Temp\\ipykernel_33640\\1823657224.py:30: FutureWarning: The default of observed=False is deprecated and will be changed to True in a future version of pandas. Pass observed=False to retain current behavior or observed=True to adopt the future default and silence this warning.\n",
      "  grouped = data.groupby('bin').agg(\n",
      "C:\\Users\\nn200\\AppData\\Local\\Temp\\ipykernel_33640\\1823657224.py:30: FutureWarning: The default of observed=False is deprecated and will be changed to True in a future version of pandas. Pass observed=False to retain current behavior or observed=True to adopt the future default and silence this warning.\n",
      "  grouped = data.groupby('bin').agg(\n"
     ]
    },
    {
     "name": "stdout",
     "output_type": "stream",
     "text": [
      "Feature: NUM_EXT_SOURCES\n",
      "             bin       woe        iv\n",
      "0  (-0.001, 2.0] -0.312466  0.073357\n",
      "1     (2.0, 3.0]  1.056263  0.247978\n",
      "IV: 0.32133501341695697\n",
      "\n",
      "Feature: NAME_TYPE_SUITE_Children\n",
      "             bin  woe   iv\n",
      "0  (-0.001, 1.0]  0.0  0.0\n",
      "IV: 0.0\n",
      "\n"
     ]
    },
    {
     "name": "stderr",
     "output_type": "stream",
     "text": [
      "C:\\Users\\nn200\\AppData\\Local\\Temp\\ipykernel_33640\\1823657224.py:30: FutureWarning: The default of observed=False is deprecated and will be changed to True in a future version of pandas. Pass observed=False to retain current behavior or observed=True to adopt the future default and silence this warning.\n",
      "  grouped = data.groupby('bin').agg(\n",
      "C:\\Users\\nn200\\AppData\\Local\\Temp\\ipykernel_33640\\1823657224.py:30: FutureWarning: The default of observed=False is deprecated and will be changed to True in a future version of pandas. Pass observed=False to retain current behavior or observed=True to adopt the future default and silence this warning.\n",
      "  grouped = data.groupby('bin').agg(\n"
     ]
    },
    {
     "name": "stdout",
     "output_type": "stream",
     "text": [
      "Feature: NAME_TYPE_SUITE_Family\n",
      "             bin  woe   iv\n",
      "0  (-0.001, 1.0]  0.0  0.0\n",
      "IV: 0.0\n",
      "\n",
      "Feature: NAME_TYPE_SUITE_Other\n",
      "             bin  woe   iv\n",
      "0  (-0.001, 1.0]  0.0  0.0\n",
      "IV: 0.0\n",
      "\n"
     ]
    },
    {
     "name": "stderr",
     "output_type": "stream",
     "text": [
      "C:\\Users\\nn200\\AppData\\Local\\Temp\\ipykernel_33640\\1823657224.py:30: FutureWarning: The default of observed=False is deprecated and will be changed to True in a future version of pandas. Pass observed=False to retain current behavior or observed=True to adopt the future default and silence this warning.\n",
      "  grouped = data.groupby('bin').agg(\n",
      "C:\\Users\\nn200\\AppData\\Local\\Temp\\ipykernel_33640\\1823657224.py:30: FutureWarning: The default of observed=False is deprecated and will be changed to True in a future version of pandas. Pass observed=False to retain current behavior or observed=True to adopt the future default and silence this warning.\n",
      "  grouped = data.groupby('bin').agg(\n"
     ]
    },
    {
     "name": "stdout",
     "output_type": "stream",
     "text": [
      "Feature: NAME_TYPE_SUITE_Spouse, partner\n",
      "             bin  woe   iv\n",
      "0  (-0.001, 1.0]  0.0  0.0\n",
      "IV: 0.0\n",
      "\n",
      "Feature: NAME_TYPE_SUITE_Unaccompanied\n",
      "             bin  woe   iv\n",
      "0  (-0.001, 1.0]  0.0  0.0\n",
      "IV: 0.0\n",
      "\n"
     ]
    },
    {
     "name": "stderr",
     "output_type": "stream",
     "text": [
      "C:\\Users\\nn200\\AppData\\Local\\Temp\\ipykernel_33640\\1823657224.py:30: FutureWarning: The default of observed=False is deprecated and will be changed to True in a future version of pandas. Pass observed=False to retain current behavior or observed=True to adopt the future default and silence this warning.\n",
      "  grouped = data.groupby('bin').agg(\n",
      "C:\\Users\\nn200\\AppData\\Local\\Temp\\ipykernel_33640\\1823657224.py:30: FutureWarning: The default of observed=False is deprecated and will be changed to True in a future version of pandas. Pass observed=False to retain current behavior or observed=True to adopt the future default and silence this warning.\n",
      "  grouped = data.groupby('bin').agg(\n"
     ]
    },
    {
     "name": "stdout",
     "output_type": "stream",
     "text": [
      "Feature: NAME_INCOME_TYPE_Businessman\n",
      "             bin  woe   iv\n",
      "0  (-0.001, 1.0]  0.0  0.0\n",
      "IV: 0.0\n",
      "\n",
      "Feature: NAME_INCOME_TYPE_Commercial associate\n",
      "             bin  woe   iv\n",
      "0  (-0.001, 1.0]  0.0  0.0\n",
      "IV: 0.0\n",
      "\n",
      "Feature: NAME_INCOME_TYPE_Maternity leave\n",
      "             bin  woe   iv\n",
      "0  (-0.001, 1.0]  0.0  0.0\n",
      "IV: 0.0\n",
      "\n"
     ]
    },
    {
     "name": "stderr",
     "output_type": "stream",
     "text": [
      "C:\\Users\\nn200\\AppData\\Local\\Temp\\ipykernel_33640\\1823657224.py:30: FutureWarning: The default of observed=False is deprecated and will be changed to True in a future version of pandas. Pass observed=False to retain current behavior or observed=True to adopt the future default and silence this warning.\n",
      "  grouped = data.groupby('bin').agg(\n",
      "C:\\Users\\nn200\\AppData\\Local\\Temp\\ipykernel_33640\\1823657224.py:30: FutureWarning: The default of observed=False is deprecated and will be changed to True in a future version of pandas. Pass observed=False to retain current behavior or observed=True to adopt the future default and silence this warning.\n",
      "  grouped = data.groupby('bin').agg(\n",
      "C:\\Users\\nn200\\AppData\\Local\\Temp\\ipykernel_33640\\1823657224.py:30: FutureWarning: The default of observed=False is deprecated and will be changed to True in a future version of pandas. Pass observed=False to retain current behavior or observed=True to adopt the future default and silence this warning.\n",
      "  grouped = data.groupby('bin').agg(\n",
      "C:\\Users\\nn200\\AppData\\Local\\Temp\\ipykernel_33640\\1823657224.py:30: FutureWarning: The default of observed=False is deprecated and will be changed to True in a future version of pandas. Pass observed=False to retain current behavior or observed=True to adopt the future default and silence this warning.\n",
      "  grouped = data.groupby('bin').agg(\n"
     ]
    },
    {
     "name": "stdout",
     "output_type": "stream",
     "text": [
      "Feature: NAME_INCOME_TYPE_Pensioner\n",
      "             bin  woe   iv\n",
      "0  (-0.001, 1.0]  0.0  0.0\n",
      "IV: 0.0\n",
      "\n",
      "Feature: NAME_INCOME_TYPE_State servant\n",
      "             bin  woe   iv\n",
      "0  (-0.001, 1.0]  0.0  0.0\n",
      "IV: 0.0\n",
      "\n"
     ]
    },
    {
     "name": "stderr",
     "output_type": "stream",
     "text": [
      "C:\\Users\\nn200\\AppData\\Local\\Temp\\ipykernel_33640\\1823657224.py:30: FutureWarning: The default of observed=False is deprecated and will be changed to True in a future version of pandas. Pass observed=False to retain current behavior or observed=True to adopt the future default and silence this warning.\n",
      "  grouped = data.groupby('bin').agg(\n",
      "C:\\Users\\nn200\\AppData\\Local\\Temp\\ipykernel_33640\\1823657224.py:30: FutureWarning: The default of observed=False is deprecated and will be changed to True in a future version of pandas. Pass observed=False to retain current behavior or observed=True to adopt the future default and silence this warning.\n",
      "  grouped = data.groupby('bin').agg(\n"
     ]
    },
    {
     "name": "stdout",
     "output_type": "stream",
     "text": [
      "Feature: NAME_INCOME_TYPE_Student\n",
      "             bin  woe   iv\n",
      "0  (-0.001, 1.0]  0.0  0.0\n",
      "IV: 0.0\n",
      "\n",
      "Feature: NAME_INCOME_TYPE_Unemployed\n",
      "             bin  woe   iv\n",
      "0  (-0.001, 1.0]  0.0  0.0\n",
      "IV: 0.0\n",
      "\n"
     ]
    },
    {
     "name": "stderr",
     "output_type": "stream",
     "text": [
      "C:\\Users\\nn200\\AppData\\Local\\Temp\\ipykernel_33640\\1823657224.py:30: FutureWarning: The default of observed=False is deprecated and will be changed to True in a future version of pandas. Pass observed=False to retain current behavior or observed=True to adopt the future default and silence this warning.\n",
      "  grouped = data.groupby('bin').agg(\n",
      "C:\\Users\\nn200\\AppData\\Local\\Temp\\ipykernel_33640\\1823657224.py:30: FutureWarning: The default of observed=False is deprecated and will be changed to True in a future version of pandas. Pass observed=False to retain current behavior or observed=True to adopt the future default and silence this warning.\n",
      "  grouped = data.groupby('bin').agg(\n"
     ]
    },
    {
     "name": "stdout",
     "output_type": "stream",
     "text": [
      "Feature: NAME_INCOME_TYPE_Working\n",
      "             bin  woe   iv\n",
      "0  (-0.001, 1.0]  0.0  0.0\n",
      "IV: 0.0\n",
      "\n",
      "Feature: NAME_EDUCATION_TYPE_Academic degree\n",
      "             bin  woe   iv\n",
      "0  (-0.001, 1.0]  0.0  0.0\n",
      "IV: 0.0\n",
      "\n"
     ]
    },
    {
     "name": "stderr",
     "output_type": "stream",
     "text": [
      "C:\\Users\\nn200\\AppData\\Local\\Temp\\ipykernel_33640\\1823657224.py:30: FutureWarning: The default of observed=False is deprecated and will be changed to True in a future version of pandas. Pass observed=False to retain current behavior or observed=True to adopt the future default and silence this warning.\n",
      "  grouped = data.groupby('bin').agg(\n",
      "C:\\Users\\nn200\\AppData\\Local\\Temp\\ipykernel_33640\\1823657224.py:30: FutureWarning: The default of observed=False is deprecated and will be changed to True in a future version of pandas. Pass observed=False to retain current behavior or observed=True to adopt the future default and silence this warning.\n",
      "  grouped = data.groupby('bin').agg(\n"
     ]
    },
    {
     "name": "stdout",
     "output_type": "stream",
     "text": [
      "Feature: NAME_EDUCATION_TYPE_Higher education\n",
      "             bin  woe   iv\n",
      "0  (-0.001, 1.0]  0.0  0.0\n",
      "IV: 0.0\n",
      "\n",
      "Feature: NAME_EDUCATION_TYPE_Incomplete higher\n",
      "             bin  woe   iv\n",
      "0  (-0.001, 1.0]  0.0  0.0\n",
      "IV: 0.0\n",
      "\n"
     ]
    },
    {
     "name": "stderr",
     "output_type": "stream",
     "text": [
      "C:\\Users\\nn200\\AppData\\Local\\Temp\\ipykernel_33640\\1823657224.py:30: FutureWarning: The default of observed=False is deprecated and will be changed to True in a future version of pandas. Pass observed=False to retain current behavior or observed=True to adopt the future default and silence this warning.\n",
      "  grouped = data.groupby('bin').agg(\n",
      "C:\\Users\\nn200\\AppData\\Local\\Temp\\ipykernel_33640\\1823657224.py:30: FutureWarning: The default of observed=False is deprecated and will be changed to True in a future version of pandas. Pass observed=False to retain current behavior or observed=True to adopt the future default and silence this warning.\n",
      "  grouped = data.groupby('bin').agg(\n"
     ]
    },
    {
     "name": "stdout",
     "output_type": "stream",
     "text": [
      "Feature: NAME_EDUCATION_TYPE_Lower secondary\n",
      "             bin  woe   iv\n",
      "0  (-0.001, 1.0]  0.0  0.0\n",
      "IV: 0.0\n",
      "\n",
      "Feature: NAME_EDUCATION_TYPE_Secondary / secondary special\n",
      "             bin  woe   iv\n",
      "0  (-0.001, 1.0]  0.0  0.0\n",
      "IV: 0.0\n",
      "\n"
     ]
    },
    {
     "name": "stderr",
     "output_type": "stream",
     "text": [
      "C:\\Users\\nn200\\AppData\\Local\\Temp\\ipykernel_33640\\1823657224.py:30: FutureWarning: The default of observed=False is deprecated and will be changed to True in a future version of pandas. Pass observed=False to retain current behavior or observed=True to adopt the future default and silence this warning.\n",
      "  grouped = data.groupby('bin').agg(\n",
      "C:\\Users\\nn200\\AppData\\Local\\Temp\\ipykernel_33640\\1823657224.py:30: FutureWarning: The default of observed=False is deprecated and will be changed to True in a future version of pandas. Pass observed=False to retain current behavior or observed=True to adopt the future default and silence this warning.\n",
      "  grouped = data.groupby('bin').agg(\n"
     ]
    },
    {
     "name": "stdout",
     "output_type": "stream",
     "text": [
      "Feature: NAME_FAMILY_STATUS_Civil marriage\n",
      "             bin  woe   iv\n",
      "0  (-0.001, 1.0]  0.0  0.0\n",
      "IV: 0.0\n",
      "\n",
      "Feature: NAME_FAMILY_STATUS_Married\n",
      "             bin  woe   iv\n",
      "0  (-0.001, 1.0]  0.0  0.0\n",
      "IV: 0.0\n",
      "\n"
     ]
    },
    {
     "name": "stderr",
     "output_type": "stream",
     "text": [
      "C:\\Users\\nn200\\AppData\\Local\\Temp\\ipykernel_33640\\1823657224.py:30: FutureWarning: The default of observed=False is deprecated and will be changed to True in a future version of pandas. Pass observed=False to retain current behavior or observed=True to adopt the future default and silence this warning.\n",
      "  grouped = data.groupby('bin').agg(\n",
      "C:\\Users\\nn200\\AppData\\Local\\Temp\\ipykernel_33640\\1823657224.py:30: FutureWarning: The default of observed=False is deprecated and will be changed to True in a future version of pandas. Pass observed=False to retain current behavior or observed=True to adopt the future default and silence this warning.\n",
      "  grouped = data.groupby('bin').agg(\n"
     ]
    },
    {
     "name": "stdout",
     "output_type": "stream",
     "text": [
      "Feature: NAME_FAMILY_STATUS_Separated\n",
      "             bin  woe   iv\n",
      "0  (-0.001, 1.0]  0.0  0.0\n",
      "IV: 0.0\n",
      "\n",
      "Feature: NAME_FAMILY_STATUS_Single / not married\n",
      "             bin  woe   iv\n",
      "0  (-0.001, 1.0]  0.0  0.0\n",
      "IV: 0.0\n",
      "\n"
     ]
    },
    {
     "name": "stderr",
     "output_type": "stream",
     "text": [
      "C:\\Users\\nn200\\AppData\\Local\\Temp\\ipykernel_33640\\1823657224.py:30: FutureWarning: The default of observed=False is deprecated and will be changed to True in a future version of pandas. Pass observed=False to retain current behavior or observed=True to adopt the future default and silence this warning.\n",
      "  grouped = data.groupby('bin').agg(\n",
      "C:\\Users\\nn200\\AppData\\Local\\Temp\\ipykernel_33640\\1823657224.py:30: FutureWarning: The default of observed=False is deprecated and will be changed to True in a future version of pandas. Pass observed=False to retain current behavior or observed=True to adopt the future default and silence this warning.\n",
      "  grouped = data.groupby('bin').agg(\n"
     ]
    },
    {
     "name": "stdout",
     "output_type": "stream",
     "text": [
      "Feature: NAME_FAMILY_STATUS_Widow\n",
      "             bin  woe   iv\n",
      "0  (-0.001, 1.0]  0.0  0.0\n",
      "IV: 0.0\n",
      "\n",
      "Feature: NAME_HOUSING_TYPE_Co-op apartment\n",
      "             bin  woe   iv\n",
      "0  (-0.001, 1.0]  0.0  0.0\n",
      "IV: 0.0\n",
      "\n"
     ]
    },
    {
     "name": "stderr",
     "output_type": "stream",
     "text": [
      "C:\\Users\\nn200\\AppData\\Local\\Temp\\ipykernel_33640\\1823657224.py:30: FutureWarning: The default of observed=False is deprecated and will be changed to True in a future version of pandas. Pass observed=False to retain current behavior or observed=True to adopt the future default and silence this warning.\n",
      "  grouped = data.groupby('bin').agg(\n",
      "C:\\Users\\nn200\\AppData\\Local\\Temp\\ipykernel_33640\\1823657224.py:30: FutureWarning: The default of observed=False is deprecated and will be changed to True in a future version of pandas. Pass observed=False to retain current behavior or observed=True to adopt the future default and silence this warning.\n",
      "  grouped = data.groupby('bin').agg(\n",
      "C:\\Users\\nn200\\AppData\\Local\\Temp\\ipykernel_33640\\1823657224.py:30: FutureWarning: The default of observed=False is deprecated and will be changed to True in a future version of pandas. Pass observed=False to retain current behavior or observed=True to adopt the future default and silence this warning.\n",
      "  grouped = data.groupby('bin').agg(\n"
     ]
    },
    {
     "name": "stdout",
     "output_type": "stream",
     "text": [
      "Feature: NAME_HOUSING_TYPE_House / apartment\n",
      "             bin  woe   iv\n",
      "0  (-0.001, 1.0]  0.0  0.0\n",
      "IV: 0.0\n",
      "\n",
      "Feature: NAME_HOUSING_TYPE_Municipal apartment\n",
      "             bin  woe   iv\n",
      "0  (-0.001, 1.0]  0.0  0.0\n",
      "IV: 0.0\n",
      "\n",
      "Feature: NAME_HOUSING_TYPE_Office apartment\n",
      "             bin  woe   iv\n",
      "0  (-0.001, 1.0]  0.0  0.0\n",
      "IV: 0.0\n",
      "\n",
      "Feature: NAME_HOUSING_TYPE_Rented apartment\n",
      "             bin  woe   iv\n",
      "0  (-0.001, 1.0]  0.0  0.0\n",
      "IV: 0.0\n",
      "\n"
     ]
    },
    {
     "name": "stderr",
     "output_type": "stream",
     "text": [
      "C:\\Users\\nn200\\AppData\\Local\\Temp\\ipykernel_33640\\1823657224.py:30: FutureWarning: The default of observed=False is deprecated and will be changed to True in a future version of pandas. Pass observed=False to retain current behavior or observed=True to adopt the future default and silence this warning.\n",
      "  grouped = data.groupby('bin').agg(\n",
      "C:\\Users\\nn200\\AppData\\Local\\Temp\\ipykernel_33640\\1823657224.py:30: FutureWarning: The default of observed=False is deprecated and will be changed to True in a future version of pandas. Pass observed=False to retain current behavior or observed=True to adopt the future default and silence this warning.\n",
      "  grouped = data.groupby('bin').agg(\n"
     ]
    },
    {
     "name": "stdout",
     "output_type": "stream",
     "text": [
      "Feature: NAME_HOUSING_TYPE_With parents\n",
      "             bin  woe   iv\n",
      "0  (-0.001, 1.0]  0.0  0.0\n",
      "IV: 0.0\n",
      "\n",
      "Feature: OCCUPATION_TYPE_OCCUPATION_TYPE_0\n",
      "             bin  woe   iv\n",
      "0  (-0.001, 1.0]  0.0  0.0\n",
      "IV: 0.0\n",
      "\n"
     ]
    },
    {
     "name": "stderr",
     "output_type": "stream",
     "text": [
      "C:\\Users\\nn200\\AppData\\Local\\Temp\\ipykernel_33640\\1823657224.py:30: FutureWarning: The default of observed=False is deprecated and will be changed to True in a future version of pandas. Pass observed=False to retain current behavior or observed=True to adopt the future default and silence this warning.\n",
      "  grouped = data.groupby('bin').agg(\n",
      "C:\\Users\\nn200\\AppData\\Local\\Temp\\ipykernel_33640\\1823657224.py:30: FutureWarning: The default of observed=False is deprecated and will be changed to True in a future version of pandas. Pass observed=False to retain current behavior or observed=True to adopt the future default and silence this warning.\n",
      "  grouped = data.groupby('bin').agg(\n"
     ]
    },
    {
     "name": "stdout",
     "output_type": "stream",
     "text": [
      "Feature: OCCUPATION_TYPE_OCCUPATION_TYPE_1\n",
      "             bin  woe   iv\n",
      "0  (-0.001, 1.0]  0.0  0.0\n",
      "IV: 0.0\n",
      "\n",
      "Feature: OCCUPATION_TYPE_OCCUPATION_TYPE_2\n",
      "             bin  woe   iv\n",
      "0  (-0.001, 1.0]  0.0  0.0\n",
      "IV: 0.0\n",
      "\n"
     ]
    },
    {
     "name": "stderr",
     "output_type": "stream",
     "text": [
      "C:\\Users\\nn200\\AppData\\Local\\Temp\\ipykernel_33640\\1823657224.py:30: FutureWarning: The default of observed=False is deprecated and will be changed to True in a future version of pandas. Pass observed=False to retain current behavior or observed=True to adopt the future default and silence this warning.\n",
      "  grouped = data.groupby('bin').agg(\n",
      "C:\\Users\\nn200\\AppData\\Local\\Temp\\ipykernel_33640\\1823657224.py:30: FutureWarning: The default of observed=False is deprecated and will be changed to True in a future version of pandas. Pass observed=False to retain current behavior or observed=True to adopt the future default and silence this warning.\n",
      "  grouped = data.groupby('bin').agg(\n"
     ]
    },
    {
     "name": "stdout",
     "output_type": "stream",
     "text": [
      "Feature: ORGANIZATION_TYPE_ORGANIZATION_TYPE_0\n",
      "             bin  woe   iv\n",
      "0  (-0.001, 1.0]  0.0  0.0\n",
      "IV: 0.0\n",
      "\n",
      "Feature: ORGANIZATION_TYPE_ORGANIZATION_TYPE_1\n",
      "             bin  woe   iv\n",
      "0  (-0.001, 1.0]  0.0  0.0\n",
      "IV: 0.0\n",
      "\n"
     ]
    },
    {
     "name": "stderr",
     "output_type": "stream",
     "text": [
      "C:\\Users\\nn200\\AppData\\Local\\Temp\\ipykernel_33640\\1823657224.py:30: FutureWarning: The default of observed=False is deprecated and will be changed to True in a future version of pandas. Pass observed=False to retain current behavior or observed=True to adopt the future default and silence this warning.\n",
      "  grouped = data.groupby('bin').agg(\n",
      "C:\\Users\\nn200\\AppData\\Local\\Temp\\ipykernel_33640\\1823657224.py:30: FutureWarning: The default of observed=False is deprecated and will be changed to True in a future version of pandas. Pass observed=False to retain current behavior or observed=True to adopt the future default and silence this warning.\n",
      "  grouped = data.groupby('bin').agg(\n"
     ]
    },
    {
     "name": "stdout",
     "output_type": "stream",
     "text": [
      "Feature: ORGANIZATION_TYPE_ORGANIZATION_TYPE_2\n",
      "             bin  woe   iv\n",
      "0  (-0.001, 1.0]  0.0  0.0\n",
      "IV: 0.0\n",
      "\n",
      "Feature: FONDKAPREMONT_MODE_not specified\n",
      "             bin  woe   iv\n",
      "0  (-0.001, 1.0]  0.0  0.0\n",
      "IV: 0.0\n",
      "\n"
     ]
    },
    {
     "name": "stderr",
     "output_type": "stream",
     "text": [
      "C:\\Users\\nn200\\AppData\\Local\\Temp\\ipykernel_33640\\1823657224.py:30: FutureWarning: The default of observed=False is deprecated and will be changed to True in a future version of pandas. Pass observed=False to retain current behavior or observed=True to adopt the future default and silence this warning.\n",
      "  grouped = data.groupby('bin').agg(\n",
      "C:\\Users\\nn200\\AppData\\Local\\Temp\\ipykernel_33640\\1823657224.py:30: FutureWarning: The default of observed=False is deprecated and will be changed to True in a future version of pandas. Pass observed=False to retain current behavior or observed=True to adopt the future default and silence this warning.\n",
      "  grouped = data.groupby('bin').agg(\n",
      "C:\\Users\\nn200\\AppData\\Local\\Temp\\ipykernel_33640\\1823657224.py:30: FutureWarning: The default of observed=False is deprecated and will be changed to True in a future version of pandas. Pass observed=False to retain current behavior or observed=True to adopt the future default and silence this warning.\n",
      "  grouped = data.groupby('bin').agg(\n"
     ]
    },
    {
     "name": "stdout",
     "output_type": "stream",
     "text": [
      "Feature: FONDKAPREMONT_MODE_org spec account\n",
      "             bin  woe   iv\n",
      "0  (-0.001, 1.0]  0.0  0.0\n",
      "IV: 0.0\n",
      "\n",
      "Feature: FONDKAPREMONT_MODE_reg oper account\n",
      "             bin  woe   iv\n",
      "0  (-0.001, 1.0]  0.0  0.0\n",
      "IV: 0.0\n",
      "\n"
     ]
    },
    {
     "name": "stderr",
     "output_type": "stream",
     "text": [
      "C:\\Users\\nn200\\AppData\\Local\\Temp\\ipykernel_33640\\1823657224.py:30: FutureWarning: The default of observed=False is deprecated and will be changed to True in a future version of pandas. Pass observed=False to retain current behavior or observed=True to adopt the future default and silence this warning.\n",
      "  grouped = data.groupby('bin').agg(\n",
      "C:\\Users\\nn200\\AppData\\Local\\Temp\\ipykernel_33640\\1823657224.py:30: FutureWarning: The default of observed=False is deprecated and will be changed to True in a future version of pandas. Pass observed=False to retain current behavior or observed=True to adopt the future default and silence this warning.\n",
      "  grouped = data.groupby('bin').agg(\n"
     ]
    },
    {
     "name": "stdout",
     "output_type": "stream",
     "text": [
      "Feature: FONDKAPREMONT_MODE_reg oper spec account\n",
      "             bin  woe   iv\n",
      "0  (-0.001, 1.0]  0.0  0.0\n",
      "IV: 0.0\n",
      "\n",
      "Feature: HOUSETYPE_MODE_block of flats\n",
      "             bin  woe   iv\n",
      "0  (-0.001, 1.0]  0.0  0.0\n",
      "IV: 0.0\n",
      "\n"
     ]
    },
    {
     "name": "stderr",
     "output_type": "stream",
     "text": [
      "C:\\Users\\nn200\\AppData\\Local\\Temp\\ipykernel_33640\\1823657224.py:30: FutureWarning: The default of observed=False is deprecated and will be changed to True in a future version of pandas. Pass observed=False to retain current behavior or observed=True to adopt the future default and silence this warning.\n",
      "  grouped = data.groupby('bin').agg(\n",
      "C:\\Users\\nn200\\AppData\\Local\\Temp\\ipykernel_33640\\1823657224.py:30: FutureWarning: The default of observed=False is deprecated and will be changed to True in a future version of pandas. Pass observed=False to retain current behavior or observed=True to adopt the future default and silence this warning.\n",
      "  grouped = data.groupby('bin').agg(\n"
     ]
    },
    {
     "name": "stdout",
     "output_type": "stream",
     "text": [
      "Feature: HOUSETYPE_MODE_specific housing\n",
      "             bin  woe   iv\n",
      "0  (-0.001, 1.0]  0.0  0.0\n",
      "IV: 0.0\n",
      "\n",
      "Feature: HOUSETYPE_MODE_terraced house\n",
      "             bin  woe   iv\n",
      "0  (-0.001, 1.0]  0.0  0.0\n",
      "IV: 0.0\n",
      "\n"
     ]
    },
    {
     "name": "stderr",
     "output_type": "stream",
     "text": [
      "C:\\Users\\nn200\\AppData\\Local\\Temp\\ipykernel_33640\\1823657224.py:30: FutureWarning: The default of observed=False is deprecated and will be changed to True in a future version of pandas. Pass observed=False to retain current behavior or observed=True to adopt the future default and silence this warning.\n",
      "  grouped = data.groupby('bin').agg(\n",
      "C:\\Users\\nn200\\AppData\\Local\\Temp\\ipykernel_33640\\1823657224.py:30: FutureWarning: The default of observed=False is deprecated and will be changed to True in a future version of pandas. Pass observed=False to retain current behavior or observed=True to adopt the future default and silence this warning.\n",
      "  grouped = data.groupby('bin').agg(\n"
     ]
    },
    {
     "name": "stdout",
     "output_type": "stream",
     "text": [
      "Feature: WALLSMATERIAL_MODE_Block\n",
      "             bin  woe   iv\n",
      "0  (-0.001, 1.0]  0.0  0.0\n",
      "IV: 0.0\n",
      "\n",
      "Feature: WALLSMATERIAL_MODE_Mixed\n",
      "             bin  woe   iv\n",
      "0  (-0.001, 1.0]  0.0  0.0\n",
      "IV: 0.0\n",
      "\n"
     ]
    },
    {
     "name": "stderr",
     "output_type": "stream",
     "text": [
      "C:\\Users\\nn200\\AppData\\Local\\Temp\\ipykernel_33640\\1823657224.py:30: FutureWarning: The default of observed=False is deprecated and will be changed to True in a future version of pandas. Pass observed=False to retain current behavior or observed=True to adopt the future default and silence this warning.\n",
      "  grouped = data.groupby('bin').agg(\n",
      "C:\\Users\\nn200\\AppData\\Local\\Temp\\ipykernel_33640\\1823657224.py:30: FutureWarning: The default of observed=False is deprecated and will be changed to True in a future version of pandas. Pass observed=False to retain current behavior or observed=True to adopt the future default and silence this warning.\n",
      "  grouped = data.groupby('bin').agg(\n"
     ]
    },
    {
     "name": "stdout",
     "output_type": "stream",
     "text": [
      "Feature: WALLSMATERIAL_MODE_Monolithic\n",
      "             bin  woe   iv\n",
      "0  (-0.001, 1.0]  0.0  0.0\n",
      "IV: 0.0\n",
      "\n",
      "Feature: WALLSMATERIAL_MODE_Others\n",
      "             bin  woe   iv\n",
      "0  (-0.001, 1.0]  0.0  0.0\n",
      "IV: 0.0\n",
      "\n"
     ]
    },
    {
     "name": "stderr",
     "output_type": "stream",
     "text": [
      "C:\\Users\\nn200\\AppData\\Local\\Temp\\ipykernel_33640\\1823657224.py:30: FutureWarning: The default of observed=False is deprecated and will be changed to True in a future version of pandas. Pass observed=False to retain current behavior or observed=True to adopt the future default and silence this warning.\n",
      "  grouped = data.groupby('bin').agg(\n",
      "C:\\Users\\nn200\\AppData\\Local\\Temp\\ipykernel_33640\\1823657224.py:30: FutureWarning: The default of observed=False is deprecated and will be changed to True in a future version of pandas. Pass observed=False to retain current behavior or observed=True to adopt the future default and silence this warning.\n",
      "  grouped = data.groupby('bin').agg(\n"
     ]
    },
    {
     "name": "stdout",
     "output_type": "stream",
     "text": [
      "Feature: WALLSMATERIAL_MODE_Panel\n",
      "             bin  woe   iv\n",
      "0  (-0.001, 1.0]  0.0  0.0\n",
      "IV: 0.0\n",
      "\n",
      "Feature: WALLSMATERIAL_MODE_Stone, brick\n",
      "             bin  woe   iv\n",
      "0  (-0.001, 1.0]  0.0  0.0\n",
      "IV: 0.0\n",
      "\n"
     ]
    },
    {
     "name": "stderr",
     "output_type": "stream",
     "text": [
      "C:\\Users\\nn200\\AppData\\Local\\Temp\\ipykernel_33640\\1823657224.py:30: FutureWarning: The default of observed=False is deprecated and will be changed to True in a future version of pandas. Pass observed=False to retain current behavior or observed=True to adopt the future default and silence this warning.\n",
      "  grouped = data.groupby('bin').agg(\n",
      "C:\\Users\\nn200\\AppData\\Local\\Temp\\ipykernel_33640\\1823657224.py:30: FutureWarning: The default of observed=False is deprecated and will be changed to True in a future version of pandas. Pass observed=False to retain current behavior or observed=True to adopt the future default and silence this warning.\n",
      "  grouped = data.groupby('bin').agg(\n"
     ]
    },
    {
     "name": "stdout",
     "output_type": "stream",
     "text": [
      "Feature: WALLSMATERIAL_MODE_Wooden\n",
      "             bin  woe   iv\n",
      "0  (-0.001, 1.0]  0.0  0.0\n",
      "IV: 0.0\n",
      "\n",
      "Feature: WEEKDAY_APPR_PROCESS_START_FRIDAY\n",
      "             bin  woe   iv\n",
      "0  (-0.001, 1.0]  0.0  0.0\n",
      "IV: 0.0\n",
      "\n"
     ]
    },
    {
     "name": "stderr",
     "output_type": "stream",
     "text": [
      "C:\\Users\\nn200\\AppData\\Local\\Temp\\ipykernel_33640\\1823657224.py:30: FutureWarning: The default of observed=False is deprecated and will be changed to True in a future version of pandas. Pass observed=False to retain current behavior or observed=True to adopt the future default and silence this warning.\n",
      "  grouped = data.groupby('bin').agg(\n",
      "C:\\Users\\nn200\\AppData\\Local\\Temp\\ipykernel_33640\\1823657224.py:30: FutureWarning: The default of observed=False is deprecated and will be changed to True in a future version of pandas. Pass observed=False to retain current behavior or observed=True to adopt the future default and silence this warning.\n",
      "  grouped = data.groupby('bin').agg(\n"
     ]
    },
    {
     "name": "stdout",
     "output_type": "stream",
     "text": [
      "Feature: WEEKDAY_APPR_PROCESS_START_MONDAY\n",
      "             bin  woe   iv\n",
      "0  (-0.001, 1.0]  0.0  0.0\n",
      "IV: 0.0\n",
      "\n",
      "Feature: WEEKDAY_APPR_PROCESS_START_SATURDAY\n",
      "             bin  woe   iv\n",
      "0  (-0.001, 1.0]  0.0  0.0\n",
      "IV: 0.0\n",
      "\n"
     ]
    },
    {
     "name": "stderr",
     "output_type": "stream",
     "text": [
      "C:\\Users\\nn200\\AppData\\Local\\Temp\\ipykernel_33640\\1823657224.py:30: FutureWarning: The default of observed=False is deprecated and will be changed to True in a future version of pandas. Pass observed=False to retain current behavior or observed=True to adopt the future default and silence this warning.\n",
      "  grouped = data.groupby('bin').agg(\n",
      "C:\\Users\\nn200\\AppData\\Local\\Temp\\ipykernel_33640\\1823657224.py:30: FutureWarning: The default of observed=False is deprecated and will be changed to True in a future version of pandas. Pass observed=False to retain current behavior or observed=True to adopt the future default and silence this warning.\n",
      "  grouped = data.groupby('bin').agg(\n"
     ]
    },
    {
     "name": "stdout",
     "output_type": "stream",
     "text": [
      "Feature: WEEKDAY_APPR_PROCESS_START_SUNDAY\n",
      "             bin  woe   iv\n",
      "0  (-0.001, 1.0]  0.0  0.0\n",
      "IV: 0.0\n",
      "\n",
      "Feature: WEEKDAY_APPR_PROCESS_START_THURSDAY\n",
      "             bin  woe   iv\n",
      "0  (-0.001, 1.0]  0.0  0.0\n",
      "IV: 0.0\n",
      "\n",
      "Feature: WEEKDAY_APPR_PROCESS_START_TUESDAY\n",
      "             bin  woe   iv\n",
      "0  (-0.001, 1.0]  0.0  0.0\n",
      "IV: 0.0\n",
      "\n",
      "Feature: WEEKDAY_APPR_PROCESS_START_WEDNESDAY\n",
      "             bin  woe   iv\n",
      "0  (-0.001, 1.0]  0.0  0.0\n",
      "IV: 0.0\n",
      "\n"
     ]
    },
    {
     "name": "stderr",
     "output_type": "stream",
     "text": [
      "C:\\Users\\nn200\\AppData\\Local\\Temp\\ipykernel_33640\\1823657224.py:30: FutureWarning: The default of observed=False is deprecated and will be changed to True in a future version of pandas. Pass observed=False to retain current behavior or observed=True to adopt the future default and silence this warning.\n",
      "  grouped = data.groupby('bin').agg(\n",
      "C:\\Users\\nn200\\AppData\\Local\\Temp\\ipykernel_33640\\1823657224.py:30: FutureWarning: The default of observed=False is deprecated and will be changed to True in a future version of pandas. Pass observed=False to retain current behavior or observed=True to adopt the future default and silence this warning.\n",
      "  grouped = data.groupby('bin').agg(\n"
     ]
    }
   ],
   "source": [
    "feature_iv = {}\n",
    "for feature in features:\n",
    "    woe_df, iv = calculate_woe_iv(data=X, feature=feature, target=t, bins=5)\n",
    "    feature_iv[feature] = iv\n",
    "    print(f\"Feature: {feature}\")\n",
    "    print(woe_df)\n",
    "    print(f\"IV: {iv}\\n\")"
   ]
  },
  {
   "cell_type": "code",
   "execution_count": 38,
   "metadata": {},
   "outputs": [
    {
     "name": "stdout",
     "output_type": "stream",
     "text": [
      "Features sorted by IV:\n",
      "REGION_RATING_CLIENT: IV = 2.3636952346867446\n",
      "EMERGENCYSTATE_MODE: IV = 1.731131894077212\n",
      "REGION_RATING_CLIENT_W_CITY: IV = 1.6117033060280073\n",
      "EXT_SOURCE_MEAN: IV = 0.762636343120367\n",
      "EXT_SOURCE_2: IV = 0.4612540833605343\n",
      "EXT_SOURCE_3: IV = 0.4087721569823295\n",
      "YEARS_BEGINEXPLUATATION_AVG: IV = 0.35740740657287257\n",
      "NUM_EXT_SOURCES: IV = 0.32133501341695697\n",
      "MONTH_DAYS_EMPLOYED: IV = 0.22160602153188547\n",
      "LIVINGAREA_AVG: IV = 0.1984587258123924\n",
      "AMT_REQ_CREDIT_BUREAU_QRT: IV = 0.19632127008277717\n",
      "FLAG_PHONE: IV = 0.18493347109178243\n",
      "AMT_CREDIT: IV = 0.17973662242094576\n",
      "MONTH_DAYS_ID_PUBLISH: IV = 0.17178290959707893\n",
      "ELEVATORS_AVG: IV = 0.1710996902455106\n",
      "MONTH_DAYS_BIRTH: IV = 0.16625720445466322\n",
      "FLAG_OWN_REALTY: IV = 0.15402703220336475\n",
      "HOUR_APPR_PROCESS_START: IV = 0.145323168659649\n",
      "ANNUITY_LENGTH: IV = 0.1448076437165166\n",
      "AMT_GOODS_PRICE: IV = 0.142262729978393\n",
      "OBS_30_CNT_SOCIAL_CIRCLE: IV = 0.13427542202953305\n",
      "MONTH_DAYS_LAST_PHONE_CHANGE: IV = 0.12839149319649779\n",
      "OBS_60_CNT_SOCIAL_CIRCLE: IV = 0.1235585063598199\n",
      "MONTH_DAYS_REGISTRATION: IV = 0.10745493491372005\n",
      "REGION_POPULATION_RELATIVE: IV = 0.10526528756658698\n",
      "AMT_REQ_CREDIT_BUREAU_DAY: IV = 0.1042579209194213\n",
      "AMT_REQ_CREDIT_BUREAU_HOUR: IV = 0.10184081507410482\n",
      "AMT_ANNUITY: IV = 0.09204636739203008\n",
      "OWN_CAR_AGE: IV = 0.08901166616008162\n",
      "NONLIVINGAREA_AVG: IV = 0.08604329347936064\n",
      "EXT_SOURCE_1: IV = 0.08456785251932157\n",
      "CREDIT_BY_INCOME: IV = 0.08210997007830982\n",
      "YEARS_BUILD_AVG: IV = 0.08108229984483789\n",
      "FLOORSMAX_AVG: IV = 0.07953542751129883\n",
      "GOODS_PRICE_BY_INCOME: IV = 0.07702145675665352\n",
      "CNT_FAM_MEMBERS: IV = 0.07266812798167531\n",
      "CODE_GENDER: IV = 0.07233475857210649\n",
      "AMT_REQ_CREDIT_BUREAU_YEAR: IV = 0.06354344252181815\n",
      "YEARS_BUILD_MODE: IV = 0.05675887748053579\n",
      "FLAG_OWN_CAR: IV = 0.05253966513080642\n",
      "ANNUITY_BY_INCOME: IV = 0.04293651786526858\n",
      "AMT_REQ_CREDIT_BUREAU_WEEK: IV = 0.04152913524042577\n",
      "AMT_INCOME_TOTAL: IV = 0.036230994018206716\n",
      "DAY_APPR_PROCESS_START: IV = 0.03426636962586617\n",
      "NONLIVINGAPARTMENTS_AVG: IV = 0.02919885405713027\n",
      "AMT_REQ_CREDIT_BUREAU_MON: IV = 0.017445212761538386\n",
      "CNT_CHILDREN: IV = 0.017153656117695502\n",
      "LIVE_CITY_NOT_WORK_CITY: IV = 0.015222459830936019\n",
      "REG_CITY_NOT_WORK_CITY: IV = 0.014186824968872837\n",
      "LIVINGAPARTMENTS_AVG: IV = 0.013022377991660443\n",
      "LANDAREA_AVG: IV = 0.012004020036464927\n",
      "COMMONAREA_AVG: IV = 0.011025923006351294\n",
      "BASEMENTAREA_AVG: IV = 0.008778824050260084\n",
      "CHILDREN_RATIO: IV = 0.008539540038388086\n",
      "FLOORSMIN_AVG: IV = 0.008307554688517935\n",
      "ENTRANCES_AVG: IV = 0.0064055897979586815\n",
      "APARTMENTS_AVG: IV = 0.005250016580753935\n",
      "INCOME_PER_PERSON: IV = 0.003812334743975854\n",
      "FLAG_WORK_PHONE: IV = 0.0005092121507457285\n",
      "SK_ID_CURR: IV = 0.0001669679981035246\n",
      "NUM_DOCUMENTS: IV = 5.692652215394384e-05\n",
      "NAME_CONTRACT_TYPE: IV = 0.0\n",
      "FLAG_MOBIL: IV = 0.0\n",
      "FLAG_EMP_PHONE: IV = 0.0\n",
      "FLAG_CONT_MOBILE: IV = 0.0\n",
      "FLAG_EMAIL: IV = 0.0\n",
      "REG_REGION_NOT_LIVE_REGION: IV = 0.0\n",
      "REG_REGION_NOT_WORK_REGION: IV = 0.0\n",
      "LIVE_REGION_NOT_WORK_REGION: IV = 0.0\n",
      "REG_CITY_NOT_LIVE_CITY: IV = 0.0\n",
      "DEF_30_CNT_SOCIAL_CIRCLE: IV = 0.0\n",
      "DEF_60_CNT_SOCIAL_CIRCLE: IV = 0.0\n",
      "CNT_ADULTS: IV = 0.0\n",
      "NAME_TYPE_SUITE_Children: IV = 0.0\n",
      "NAME_TYPE_SUITE_Family: IV = 0.0\n",
      "NAME_TYPE_SUITE_Other: IV = 0.0\n",
      "NAME_TYPE_SUITE_Spouse, partner: IV = 0.0\n",
      "NAME_TYPE_SUITE_Unaccompanied: IV = 0.0\n",
      "NAME_INCOME_TYPE_Businessman: IV = 0.0\n",
      "NAME_INCOME_TYPE_Commercial associate: IV = 0.0\n",
      "NAME_INCOME_TYPE_Maternity leave: IV = 0.0\n",
      "NAME_INCOME_TYPE_Pensioner: IV = 0.0\n",
      "NAME_INCOME_TYPE_State servant: IV = 0.0\n",
      "NAME_INCOME_TYPE_Student: IV = 0.0\n",
      "NAME_INCOME_TYPE_Unemployed: IV = 0.0\n",
      "NAME_INCOME_TYPE_Working: IV = 0.0\n",
      "NAME_EDUCATION_TYPE_Academic degree: IV = 0.0\n",
      "NAME_EDUCATION_TYPE_Higher education: IV = 0.0\n",
      "NAME_EDUCATION_TYPE_Incomplete higher: IV = 0.0\n",
      "NAME_EDUCATION_TYPE_Lower secondary: IV = 0.0\n",
      "NAME_EDUCATION_TYPE_Secondary / secondary special: IV = 0.0\n",
      "NAME_FAMILY_STATUS_Civil marriage: IV = 0.0\n",
      "NAME_FAMILY_STATUS_Married: IV = 0.0\n",
      "NAME_FAMILY_STATUS_Separated: IV = 0.0\n",
      "NAME_FAMILY_STATUS_Single / not married: IV = 0.0\n",
      "NAME_FAMILY_STATUS_Widow: IV = 0.0\n",
      "NAME_HOUSING_TYPE_Co-op apartment: IV = 0.0\n",
      "NAME_HOUSING_TYPE_House / apartment: IV = 0.0\n",
      "NAME_HOUSING_TYPE_Municipal apartment: IV = 0.0\n",
      "NAME_HOUSING_TYPE_Office apartment: IV = 0.0\n",
      "NAME_HOUSING_TYPE_Rented apartment: IV = 0.0\n",
      "NAME_HOUSING_TYPE_With parents: IV = 0.0\n",
      "OCCUPATION_TYPE_OCCUPATION_TYPE_0: IV = 0.0\n",
      "OCCUPATION_TYPE_OCCUPATION_TYPE_1: IV = 0.0\n",
      "OCCUPATION_TYPE_OCCUPATION_TYPE_2: IV = 0.0\n",
      "ORGANIZATION_TYPE_ORGANIZATION_TYPE_0: IV = 0.0\n",
      "ORGANIZATION_TYPE_ORGANIZATION_TYPE_1: IV = 0.0\n",
      "ORGANIZATION_TYPE_ORGANIZATION_TYPE_2: IV = 0.0\n",
      "FONDKAPREMONT_MODE_not specified: IV = 0.0\n",
      "FONDKAPREMONT_MODE_org spec account: IV = 0.0\n",
      "FONDKAPREMONT_MODE_reg oper account: IV = 0.0\n",
      "FONDKAPREMONT_MODE_reg oper spec account: IV = 0.0\n",
      "HOUSETYPE_MODE_block of flats: IV = 0.0\n",
      "HOUSETYPE_MODE_specific housing: IV = 0.0\n",
      "HOUSETYPE_MODE_terraced house: IV = 0.0\n",
      "WALLSMATERIAL_MODE_Block: IV = 0.0\n",
      "WALLSMATERIAL_MODE_Mixed: IV = 0.0\n",
      "WALLSMATERIAL_MODE_Monolithic: IV = 0.0\n",
      "WALLSMATERIAL_MODE_Others: IV = 0.0\n",
      "WALLSMATERIAL_MODE_Panel: IV = 0.0\n",
      "WALLSMATERIAL_MODE_Stone, brick: IV = 0.0\n",
      "WALLSMATERIAL_MODE_Wooden: IV = 0.0\n",
      "WEEKDAY_APPR_PROCESS_START_FRIDAY: IV = 0.0\n",
      "WEEKDAY_APPR_PROCESS_START_MONDAY: IV = 0.0\n",
      "WEEKDAY_APPR_PROCESS_START_SATURDAY: IV = 0.0\n",
      "WEEKDAY_APPR_PROCESS_START_SUNDAY: IV = 0.0\n",
      "WEEKDAY_APPR_PROCESS_START_THURSDAY: IV = 0.0\n",
      "WEEKDAY_APPR_PROCESS_START_TUESDAY: IV = 0.0\n",
      "WEEKDAY_APPR_PROCESS_START_WEDNESDAY: IV = 0.0\n"
     ]
    }
   ],
   "source": [
    "sorted_iv = sorted(feature_iv.items(), key=lambda x: x[1], reverse=True)\n",
    "print(\"Features sorted by IV:\")\n",
    "for feature, iv in sorted_iv:\n",
    "    print(f\"{feature}: IV = {iv}\")"
   ]
  },
  {
   "cell_type": "code",
   "execution_count": 39,
   "metadata": {},
   "outputs": [],
   "source": [
    "filtered_features = [feature for feature, iv in feature_iv.items() if 0.1 <= iv <= 0.5]\n",
    "\n",
    "# Create a new DataFrame with only the filtered features\n",
    "filtered_train = X[filtered_features]"
   ]
  },
  {
   "cell_type": "code",
   "execution_count": 40,
   "metadata": {},
   "outputs": [],
   "source": [
    "# from imblearn.over_sampling import SMOTE\n",
    "# smote = SMOTE(random_state=42)\n",
    "# filtered_train, y_res = smote.fit_resample(filtered_train, y_res)"
   ]
  },
  {
   "cell_type": "code",
   "execution_count": 41,
   "metadata": {},
   "outputs": [],
   "source": [
    "filtered_test = test[filtered_features]"
   ]
  },
  {
   "cell_type": "code",
   "execution_count": 42,
   "metadata": {},
   "outputs": [
    {
     "data": {
      "text/plain": [
       "Index(['FLAG_OWN_REALTY', 'AMT_CREDIT', 'AMT_GOODS_PRICE',\n",
       "       'REGION_POPULATION_RELATIVE', 'FLAG_PHONE', 'HOUR_APPR_PROCESS_START',\n",
       "       'EXT_SOURCE_2', 'EXT_SOURCE_3', 'YEARS_BEGINEXPLUATATION_AVG',\n",
       "       'ELEVATORS_AVG', 'LIVINGAREA_AVG', 'OBS_30_CNT_SOCIAL_CIRCLE',\n",
       "       'OBS_60_CNT_SOCIAL_CIRCLE', 'AMT_REQ_CREDIT_BUREAU_HOUR',\n",
       "       'AMT_REQ_CREDIT_BUREAU_DAY', 'AMT_REQ_CREDIT_BUREAU_QRT',\n",
       "       'MONTH_DAYS_BIRTH', 'MONTH_DAYS_EMPLOYED', 'MONTH_DAYS_REGISTRATION',\n",
       "       'MONTH_DAYS_ID_PUBLISH', 'MONTH_DAYS_LAST_PHONE_CHANGE',\n",
       "       'ANNUITY_LENGTH', 'NUM_EXT_SOURCES'],\n",
       "      dtype='object')"
      ]
     },
     "execution_count": 42,
     "metadata": {},
     "output_type": "execute_result"
    }
   ],
   "source": [
    "filtered_test.columns"
   ]
  },
  {
   "cell_type": "code",
   "execution_count": null,
   "metadata": {},
   "outputs": [],
   "source": [
    "from sklearn.preprocessing import PolynomialFeatures, MinMaxScaler\n",
    "from sklearn.impute import SimpleImputer  # Thay thế Imputer bằng SimpleImputer\n",
    "\n",
    "# Khởi tạo các preprocessing. Trong đó SimpleImputer theo mean, MinMaxScaler theo khoảng 0, 1 và PolynomialFeatures bậc 3.\n",
    "imputer = SimpleImputer(strategy='mean')  # Sửa đổi từ Imputer thành SimpleImputer\n",
    "minmax_scaler = MinMaxScaler(feature_range=(0, 1))\n",
    "poly_engineer = PolynomialFeatures(degree=3)\n",
    "\n",
    "# Lấy các feature có tương quan lớn nhất đến biến mục tiêu từ app_train và app_test\n",
    "TARGET = y['TARGET']\n",
    "train_poly_fea = filtered_train\n",
    "test_poly_fea = filtered_test"
   ]
  },
  {
   "cell_type": "code",
   "execution_count": 45,
   "metadata": {},
   "outputs": [],
   "source": [
    "# MinMaxScaler dữ liệu\n",
    "train_poly_fea = minmax_scaler.fit_transform(train_poly_fea)\n",
    "test_poly_fea = minmax_scaler.transform(test_poly_fea)"
   ]
  },
  {
   "cell_type": "code",
   "execution_count": 46,
   "metadata": {},
   "outputs": [
    {
     "ename": "MemoryError",
     "evalue": "Unable to allocate 8.76 GiB for an array with shape (452266, 2600) and data type float64",
     "output_type": "error",
     "traceback": [
      "\u001b[1;31m---------------------------------------------------------------------------\u001b[0m",
      "\u001b[1;31mMemoryError\u001b[0m                               Traceback (most recent call last)",
      "Cell \u001b[1;32mIn[46], line 2\u001b[0m\n\u001b[0;32m      1\u001b[0m \u001b[38;5;66;03m# Tạo ra các Polynomial Features\u001b[39;00m\n\u001b[1;32m----> 2\u001b[0m train_poly_fea \u001b[38;5;241m=\u001b[39m \u001b[43mpoly_engineer\u001b[49m\u001b[38;5;241;43m.\u001b[39;49m\u001b[43mfit_transform\u001b[49m\u001b[43m(\u001b[49m\u001b[43mtrain_poly_fea\u001b[49m\u001b[43m)\u001b[49m\n\u001b[0;32m      3\u001b[0m test_poly_fea \u001b[38;5;241m=\u001b[39m poly_engineer\u001b[38;5;241m.\u001b[39mtransform(test_poly_fea)\n",
      "File \u001b[1;32mc:\\Users\\nn200\\AppData\\Local\\Programs\\Python\\Python312\\Lib\\site-packages\\sklearn\\utils\\_set_output.py:313\u001b[0m, in \u001b[0;36m_wrap_method_output.<locals>.wrapped\u001b[1;34m(self, X, *args, **kwargs)\u001b[0m\n\u001b[0;32m    311\u001b[0m \u001b[38;5;129m@wraps\u001b[39m(f)\n\u001b[0;32m    312\u001b[0m \u001b[38;5;28;01mdef\u001b[39;00m \u001b[38;5;21mwrapped\u001b[39m(\u001b[38;5;28mself\u001b[39m, X, \u001b[38;5;241m*\u001b[39margs, \u001b[38;5;241m*\u001b[39m\u001b[38;5;241m*\u001b[39mkwargs):\n\u001b[1;32m--> 313\u001b[0m     data_to_wrap \u001b[38;5;241m=\u001b[39m \u001b[43mf\u001b[49m\u001b[43m(\u001b[49m\u001b[38;5;28;43mself\u001b[39;49m\u001b[43m,\u001b[49m\u001b[43m \u001b[49m\u001b[43mX\u001b[49m\u001b[43m,\u001b[49m\u001b[43m \u001b[49m\u001b[38;5;241;43m*\u001b[39;49m\u001b[43margs\u001b[49m\u001b[43m,\u001b[49m\u001b[43m \u001b[49m\u001b[38;5;241;43m*\u001b[39;49m\u001b[38;5;241;43m*\u001b[39;49m\u001b[43mkwargs\u001b[49m\u001b[43m)\u001b[49m\n\u001b[0;32m    314\u001b[0m     \u001b[38;5;28;01mif\u001b[39;00m \u001b[38;5;28misinstance\u001b[39m(data_to_wrap, \u001b[38;5;28mtuple\u001b[39m):\n\u001b[0;32m    315\u001b[0m         \u001b[38;5;66;03m# only wrap the first output for cross decomposition\u001b[39;00m\n\u001b[0;32m    316\u001b[0m         return_tuple \u001b[38;5;241m=\u001b[39m (\n\u001b[0;32m    317\u001b[0m             _wrap_data_with_container(method, data_to_wrap[\u001b[38;5;241m0\u001b[39m], X, \u001b[38;5;28mself\u001b[39m),\n\u001b[0;32m    318\u001b[0m             \u001b[38;5;241m*\u001b[39mdata_to_wrap[\u001b[38;5;241m1\u001b[39m:],\n\u001b[0;32m    319\u001b[0m         )\n",
      "File \u001b[1;32mc:\\Users\\nn200\\AppData\\Local\\Programs\\Python\\Python312\\Lib\\site-packages\\sklearn\\base.py:1098\u001b[0m, in \u001b[0;36mTransformerMixin.fit_transform\u001b[1;34m(self, X, y, **fit_params)\u001b[0m\n\u001b[0;32m   1083\u001b[0m         warnings\u001b[38;5;241m.\u001b[39mwarn(\n\u001b[0;32m   1084\u001b[0m             (\n\u001b[0;32m   1085\u001b[0m                 \u001b[38;5;124mf\u001b[39m\u001b[38;5;124m\"\u001b[39m\u001b[38;5;124mThis object (\u001b[39m\u001b[38;5;132;01m{\u001b[39;00m\u001b[38;5;28mself\u001b[39m\u001b[38;5;241m.\u001b[39m\u001b[38;5;18m__class__\u001b[39m\u001b[38;5;241m.\u001b[39m\u001b[38;5;18m__name__\u001b[39m\u001b[38;5;132;01m}\u001b[39;00m\u001b[38;5;124m) has a `transform`\u001b[39m\u001b[38;5;124m\"\u001b[39m\n\u001b[1;32m   (...)\u001b[0m\n\u001b[0;32m   1093\u001b[0m             \u001b[38;5;167;01mUserWarning\u001b[39;00m,\n\u001b[0;32m   1094\u001b[0m         )\n\u001b[0;32m   1096\u001b[0m \u001b[38;5;28;01mif\u001b[39;00m y \u001b[38;5;129;01mis\u001b[39;00m \u001b[38;5;28;01mNone\u001b[39;00m:\n\u001b[0;32m   1097\u001b[0m     \u001b[38;5;66;03m# fit method of arity 1 (unsupervised transformation)\u001b[39;00m\n\u001b[1;32m-> 1098\u001b[0m     \u001b[38;5;28;01mreturn\u001b[39;00m \u001b[38;5;28;43mself\u001b[39;49m\u001b[38;5;241;43m.\u001b[39;49m\u001b[43mfit\u001b[49m\u001b[43m(\u001b[49m\u001b[43mX\u001b[49m\u001b[43m,\u001b[49m\u001b[43m \u001b[49m\u001b[38;5;241;43m*\u001b[39;49m\u001b[38;5;241;43m*\u001b[39;49m\u001b[43mfit_params\u001b[49m\u001b[43m)\u001b[49m\u001b[38;5;241;43m.\u001b[39;49m\u001b[43mtransform\u001b[49m\u001b[43m(\u001b[49m\u001b[43mX\u001b[49m\u001b[43m)\u001b[49m\n\u001b[0;32m   1099\u001b[0m \u001b[38;5;28;01melse\u001b[39;00m:\n\u001b[0;32m   1100\u001b[0m     \u001b[38;5;66;03m# fit method of arity 2 (supervised transformation)\u001b[39;00m\n\u001b[0;32m   1101\u001b[0m     \u001b[38;5;28;01mreturn\u001b[39;00m \u001b[38;5;28mself\u001b[39m\u001b[38;5;241m.\u001b[39mfit(X, y, \u001b[38;5;241m*\u001b[39m\u001b[38;5;241m*\u001b[39mfit_params)\u001b[38;5;241m.\u001b[39mtransform(X)\n",
      "File \u001b[1;32mc:\\Users\\nn200\\AppData\\Local\\Programs\\Python\\Python312\\Lib\\site-packages\\sklearn\\utils\\_set_output.py:313\u001b[0m, in \u001b[0;36m_wrap_method_output.<locals>.wrapped\u001b[1;34m(self, X, *args, **kwargs)\u001b[0m\n\u001b[0;32m    311\u001b[0m \u001b[38;5;129m@wraps\u001b[39m(f)\n\u001b[0;32m    312\u001b[0m \u001b[38;5;28;01mdef\u001b[39;00m \u001b[38;5;21mwrapped\u001b[39m(\u001b[38;5;28mself\u001b[39m, X, \u001b[38;5;241m*\u001b[39margs, \u001b[38;5;241m*\u001b[39m\u001b[38;5;241m*\u001b[39mkwargs):\n\u001b[1;32m--> 313\u001b[0m     data_to_wrap \u001b[38;5;241m=\u001b[39m \u001b[43mf\u001b[49m\u001b[43m(\u001b[49m\u001b[38;5;28;43mself\u001b[39;49m\u001b[43m,\u001b[49m\u001b[43m \u001b[49m\u001b[43mX\u001b[49m\u001b[43m,\u001b[49m\u001b[43m \u001b[49m\u001b[38;5;241;43m*\u001b[39;49m\u001b[43margs\u001b[49m\u001b[43m,\u001b[49m\u001b[43m \u001b[49m\u001b[38;5;241;43m*\u001b[39;49m\u001b[38;5;241;43m*\u001b[39;49m\u001b[43mkwargs\u001b[49m\u001b[43m)\u001b[49m\n\u001b[0;32m    314\u001b[0m     \u001b[38;5;28;01mif\u001b[39;00m \u001b[38;5;28misinstance\u001b[39m(data_to_wrap, \u001b[38;5;28mtuple\u001b[39m):\n\u001b[0;32m    315\u001b[0m         \u001b[38;5;66;03m# only wrap the first output for cross decomposition\u001b[39;00m\n\u001b[0;32m    316\u001b[0m         return_tuple \u001b[38;5;241m=\u001b[39m (\n\u001b[0;32m    317\u001b[0m             _wrap_data_with_container(method, data_to_wrap[\u001b[38;5;241m0\u001b[39m], X, \u001b[38;5;28mself\u001b[39m),\n\u001b[0;32m    318\u001b[0m             \u001b[38;5;241m*\u001b[39mdata_to_wrap[\u001b[38;5;241m1\u001b[39m:],\n\u001b[0;32m    319\u001b[0m         )\n",
      "File \u001b[1;32mc:\\Users\\nn200\\AppData\\Local\\Programs\\Python\\Python312\\Lib\\site-packages\\sklearn\\preprocessing\\_polynomial.py:508\u001b[0m, in \u001b[0;36mPolynomialFeatures.transform\u001b[1;34m(self, X)\u001b[0m\n\u001b[0;32m    504\u001b[0m     XP \u001b[38;5;241m=\u001b[39m sparse\u001b[38;5;241m.\u001b[39mhstack(columns, dtype\u001b[38;5;241m=\u001b[39mX\u001b[38;5;241m.\u001b[39mdtype)\u001b[38;5;241m.\u001b[39mtocsc()\n\u001b[0;32m    505\u001b[0m \u001b[38;5;28;01melse\u001b[39;00m:\n\u001b[0;32m    506\u001b[0m     \u001b[38;5;66;03m# Do as if _min_degree = 0 and cut down array after the\u001b[39;00m\n\u001b[0;32m    507\u001b[0m     \u001b[38;5;66;03m# computation, i.e. use _n_out_full instead of n_output_features_.\u001b[39;00m\n\u001b[1;32m--> 508\u001b[0m     XP \u001b[38;5;241m=\u001b[39m \u001b[43mnp\u001b[49m\u001b[38;5;241;43m.\u001b[39;49m\u001b[43mempty\u001b[49m\u001b[43m(\u001b[49m\n\u001b[0;32m    509\u001b[0m \u001b[43m        \u001b[49m\u001b[43mshape\u001b[49m\u001b[38;5;241;43m=\u001b[39;49m\u001b[43m(\u001b[49m\u001b[43mn_samples\u001b[49m\u001b[43m,\u001b[49m\u001b[43m \u001b[49m\u001b[38;5;28;43mself\u001b[39;49m\u001b[38;5;241;43m.\u001b[39;49m\u001b[43m_n_out_full\u001b[49m\u001b[43m)\u001b[49m\u001b[43m,\u001b[49m\u001b[43m \u001b[49m\u001b[43mdtype\u001b[49m\u001b[38;5;241;43m=\u001b[39;49m\u001b[43mX\u001b[49m\u001b[38;5;241;43m.\u001b[39;49m\u001b[43mdtype\u001b[49m\u001b[43m,\u001b[49m\u001b[43m \u001b[49m\u001b[43morder\u001b[49m\u001b[38;5;241;43m=\u001b[39;49m\u001b[38;5;28;43mself\u001b[39;49m\u001b[38;5;241;43m.\u001b[39;49m\u001b[43morder\u001b[49m\n\u001b[0;32m    510\u001b[0m \u001b[43m    \u001b[49m\u001b[43m)\u001b[49m\n\u001b[0;32m    512\u001b[0m     \u001b[38;5;66;03m# What follows is a faster implementation of:\u001b[39;00m\n\u001b[0;32m    513\u001b[0m     \u001b[38;5;66;03m# for i, comb in enumerate(combinations):\u001b[39;00m\n\u001b[0;32m    514\u001b[0m     \u001b[38;5;66;03m#     XP[:, i] = X[:, comb].prod(1)\u001b[39;00m\n\u001b[1;32m   (...)\u001b[0m\n\u001b[0;32m    524\u001b[0m \n\u001b[0;32m    525\u001b[0m     \u001b[38;5;66;03m# degree 0 term\u001b[39;00m\n\u001b[0;32m    526\u001b[0m     \u001b[38;5;28;01mif\u001b[39;00m \u001b[38;5;28mself\u001b[39m\u001b[38;5;241m.\u001b[39minclude_bias:\n",
      "\u001b[1;31mMemoryError\u001b[0m: Unable to allocate 8.76 GiB for an array with shape (452266, 2600) and data type float64"
     ]
    }
   ],
   "source": [
    "# Tạo ra các Polynomial Features\n",
    "train_poly_fea = poly_engineer.fit_transform(train_poly_fea)\n",
    "test_poly_fea = poly_engineer.transform(test_poly_fea)"
   ]
  },
  {
   "cell_type": "code",
   "execution_count": null,
   "metadata": {},
   "outputs": [
    {
     "ename": "MemoryError",
     "evalue": "Unable to allocate 8.76 GiB for an array with shape (452266, 2600) and data type float64",
     "output_type": "error",
     "traceback": [
      "\u001b[1;31m---------------------------------------------------------------------------\u001b[0m",
      "\u001b[1;31mMemoryError\u001b[0m                               Traceback (most recent call last)",
      "Cell \u001b[1;32mIn[43], line 19\u001b[0m\n\u001b[0;32m     16\u001b[0m test_poly_fea \u001b[38;5;241m=\u001b[39m minmax_scaler\u001b[38;5;241m.\u001b[39mtransform(test_poly_fea)\n\u001b[0;32m     18\u001b[0m \u001b[38;5;66;03m# Tạo ra các Polynomial Features\u001b[39;00m\n\u001b[1;32m---> 19\u001b[0m train_poly_fea \u001b[38;5;241m=\u001b[39m \u001b[43mpoly_engineer\u001b[49m\u001b[38;5;241;43m.\u001b[39;49m\u001b[43mfit_transform\u001b[49m\u001b[43m(\u001b[49m\u001b[43mtrain_poly_fea\u001b[49m\u001b[43m)\u001b[49m\n\u001b[0;32m     20\u001b[0m test_poly_fea \u001b[38;5;241m=\u001b[39m poly_engineer\u001b[38;5;241m.\u001b[39mtransform(test_poly_fea)\n\u001b[0;32m     22\u001b[0m \u001b[38;5;28mprint\u001b[39m(\u001b[38;5;124m'\u001b[39m\u001b[38;5;124mtrain_poly_fea shape: \u001b[39m\u001b[38;5;124m'\u001b[39m, train_poly_fea\u001b[38;5;241m.\u001b[39mshape)\n",
      "File \u001b[1;32mc:\\Users\\nn200\\AppData\\Local\\Programs\\Python\\Python312\\Lib\\site-packages\\sklearn\\utils\\_set_output.py:313\u001b[0m, in \u001b[0;36m_wrap_method_output.<locals>.wrapped\u001b[1;34m(self, X, *args, **kwargs)\u001b[0m\n\u001b[0;32m    311\u001b[0m \u001b[38;5;129m@wraps\u001b[39m(f)\n\u001b[0;32m    312\u001b[0m \u001b[38;5;28;01mdef\u001b[39;00m \u001b[38;5;21mwrapped\u001b[39m(\u001b[38;5;28mself\u001b[39m, X, \u001b[38;5;241m*\u001b[39margs, \u001b[38;5;241m*\u001b[39m\u001b[38;5;241m*\u001b[39mkwargs):\n\u001b[1;32m--> 313\u001b[0m     data_to_wrap \u001b[38;5;241m=\u001b[39m \u001b[43mf\u001b[49m\u001b[43m(\u001b[49m\u001b[38;5;28;43mself\u001b[39;49m\u001b[43m,\u001b[49m\u001b[43m \u001b[49m\u001b[43mX\u001b[49m\u001b[43m,\u001b[49m\u001b[43m \u001b[49m\u001b[38;5;241;43m*\u001b[39;49m\u001b[43margs\u001b[49m\u001b[43m,\u001b[49m\u001b[43m \u001b[49m\u001b[38;5;241;43m*\u001b[39;49m\u001b[38;5;241;43m*\u001b[39;49m\u001b[43mkwargs\u001b[49m\u001b[43m)\u001b[49m\n\u001b[0;32m    314\u001b[0m     \u001b[38;5;28;01mif\u001b[39;00m \u001b[38;5;28misinstance\u001b[39m(data_to_wrap, \u001b[38;5;28mtuple\u001b[39m):\n\u001b[0;32m    315\u001b[0m         \u001b[38;5;66;03m# only wrap the first output for cross decomposition\u001b[39;00m\n\u001b[0;32m    316\u001b[0m         return_tuple \u001b[38;5;241m=\u001b[39m (\n\u001b[0;32m    317\u001b[0m             _wrap_data_with_container(method, data_to_wrap[\u001b[38;5;241m0\u001b[39m], X, \u001b[38;5;28mself\u001b[39m),\n\u001b[0;32m    318\u001b[0m             \u001b[38;5;241m*\u001b[39mdata_to_wrap[\u001b[38;5;241m1\u001b[39m:],\n\u001b[0;32m    319\u001b[0m         )\n",
      "File \u001b[1;32mc:\\Users\\nn200\\AppData\\Local\\Programs\\Python\\Python312\\Lib\\site-packages\\sklearn\\base.py:1098\u001b[0m, in \u001b[0;36mTransformerMixin.fit_transform\u001b[1;34m(self, X, y, **fit_params)\u001b[0m\n\u001b[0;32m   1083\u001b[0m         warnings\u001b[38;5;241m.\u001b[39mwarn(\n\u001b[0;32m   1084\u001b[0m             (\n\u001b[0;32m   1085\u001b[0m                 \u001b[38;5;124mf\u001b[39m\u001b[38;5;124m\"\u001b[39m\u001b[38;5;124mThis object (\u001b[39m\u001b[38;5;132;01m{\u001b[39;00m\u001b[38;5;28mself\u001b[39m\u001b[38;5;241m.\u001b[39m\u001b[38;5;18m__class__\u001b[39m\u001b[38;5;241m.\u001b[39m\u001b[38;5;18m__name__\u001b[39m\u001b[38;5;132;01m}\u001b[39;00m\u001b[38;5;124m) has a `transform`\u001b[39m\u001b[38;5;124m\"\u001b[39m\n\u001b[1;32m   (...)\u001b[0m\n\u001b[0;32m   1093\u001b[0m             \u001b[38;5;167;01mUserWarning\u001b[39;00m,\n\u001b[0;32m   1094\u001b[0m         )\n\u001b[0;32m   1096\u001b[0m \u001b[38;5;28;01mif\u001b[39;00m y \u001b[38;5;129;01mis\u001b[39;00m \u001b[38;5;28;01mNone\u001b[39;00m:\n\u001b[0;32m   1097\u001b[0m     \u001b[38;5;66;03m# fit method of arity 1 (unsupervised transformation)\u001b[39;00m\n\u001b[1;32m-> 1098\u001b[0m     \u001b[38;5;28;01mreturn\u001b[39;00m \u001b[38;5;28;43mself\u001b[39;49m\u001b[38;5;241;43m.\u001b[39;49m\u001b[43mfit\u001b[49m\u001b[43m(\u001b[49m\u001b[43mX\u001b[49m\u001b[43m,\u001b[49m\u001b[43m \u001b[49m\u001b[38;5;241;43m*\u001b[39;49m\u001b[38;5;241;43m*\u001b[39;49m\u001b[43mfit_params\u001b[49m\u001b[43m)\u001b[49m\u001b[38;5;241;43m.\u001b[39;49m\u001b[43mtransform\u001b[49m\u001b[43m(\u001b[49m\u001b[43mX\u001b[49m\u001b[43m)\u001b[49m\n\u001b[0;32m   1099\u001b[0m \u001b[38;5;28;01melse\u001b[39;00m:\n\u001b[0;32m   1100\u001b[0m     \u001b[38;5;66;03m# fit method of arity 2 (supervised transformation)\u001b[39;00m\n\u001b[0;32m   1101\u001b[0m     \u001b[38;5;28;01mreturn\u001b[39;00m \u001b[38;5;28mself\u001b[39m\u001b[38;5;241m.\u001b[39mfit(X, y, \u001b[38;5;241m*\u001b[39m\u001b[38;5;241m*\u001b[39mfit_params)\u001b[38;5;241m.\u001b[39mtransform(X)\n",
      "File \u001b[1;32mc:\\Users\\nn200\\AppData\\Local\\Programs\\Python\\Python312\\Lib\\site-packages\\sklearn\\utils\\_set_output.py:313\u001b[0m, in \u001b[0;36m_wrap_method_output.<locals>.wrapped\u001b[1;34m(self, X, *args, **kwargs)\u001b[0m\n\u001b[0;32m    311\u001b[0m \u001b[38;5;129m@wraps\u001b[39m(f)\n\u001b[0;32m    312\u001b[0m \u001b[38;5;28;01mdef\u001b[39;00m \u001b[38;5;21mwrapped\u001b[39m(\u001b[38;5;28mself\u001b[39m, X, \u001b[38;5;241m*\u001b[39margs, \u001b[38;5;241m*\u001b[39m\u001b[38;5;241m*\u001b[39mkwargs):\n\u001b[1;32m--> 313\u001b[0m     data_to_wrap \u001b[38;5;241m=\u001b[39m \u001b[43mf\u001b[49m\u001b[43m(\u001b[49m\u001b[38;5;28;43mself\u001b[39;49m\u001b[43m,\u001b[49m\u001b[43m \u001b[49m\u001b[43mX\u001b[49m\u001b[43m,\u001b[49m\u001b[43m \u001b[49m\u001b[38;5;241;43m*\u001b[39;49m\u001b[43margs\u001b[49m\u001b[43m,\u001b[49m\u001b[43m \u001b[49m\u001b[38;5;241;43m*\u001b[39;49m\u001b[38;5;241;43m*\u001b[39;49m\u001b[43mkwargs\u001b[49m\u001b[43m)\u001b[49m\n\u001b[0;32m    314\u001b[0m     \u001b[38;5;28;01mif\u001b[39;00m \u001b[38;5;28misinstance\u001b[39m(data_to_wrap, \u001b[38;5;28mtuple\u001b[39m):\n\u001b[0;32m    315\u001b[0m         \u001b[38;5;66;03m# only wrap the first output for cross decomposition\u001b[39;00m\n\u001b[0;32m    316\u001b[0m         return_tuple \u001b[38;5;241m=\u001b[39m (\n\u001b[0;32m    317\u001b[0m             _wrap_data_with_container(method, data_to_wrap[\u001b[38;5;241m0\u001b[39m], X, \u001b[38;5;28mself\u001b[39m),\n\u001b[0;32m    318\u001b[0m             \u001b[38;5;241m*\u001b[39mdata_to_wrap[\u001b[38;5;241m1\u001b[39m:],\n\u001b[0;32m    319\u001b[0m         )\n",
      "File \u001b[1;32mc:\\Users\\nn200\\AppData\\Local\\Programs\\Python\\Python312\\Lib\\site-packages\\sklearn\\preprocessing\\_polynomial.py:508\u001b[0m, in \u001b[0;36mPolynomialFeatures.transform\u001b[1;34m(self, X)\u001b[0m\n\u001b[0;32m    504\u001b[0m     XP \u001b[38;5;241m=\u001b[39m sparse\u001b[38;5;241m.\u001b[39mhstack(columns, dtype\u001b[38;5;241m=\u001b[39mX\u001b[38;5;241m.\u001b[39mdtype)\u001b[38;5;241m.\u001b[39mtocsc()\n\u001b[0;32m    505\u001b[0m \u001b[38;5;28;01melse\u001b[39;00m:\n\u001b[0;32m    506\u001b[0m     \u001b[38;5;66;03m# Do as if _min_degree = 0 and cut down array after the\u001b[39;00m\n\u001b[0;32m    507\u001b[0m     \u001b[38;5;66;03m# computation, i.e. use _n_out_full instead of n_output_features_.\u001b[39;00m\n\u001b[1;32m--> 508\u001b[0m     XP \u001b[38;5;241m=\u001b[39m \u001b[43mnp\u001b[49m\u001b[38;5;241;43m.\u001b[39;49m\u001b[43mempty\u001b[49m\u001b[43m(\u001b[49m\n\u001b[0;32m    509\u001b[0m \u001b[43m        \u001b[49m\u001b[43mshape\u001b[49m\u001b[38;5;241;43m=\u001b[39;49m\u001b[43m(\u001b[49m\u001b[43mn_samples\u001b[49m\u001b[43m,\u001b[49m\u001b[43m \u001b[49m\u001b[38;5;28;43mself\u001b[39;49m\u001b[38;5;241;43m.\u001b[39;49m\u001b[43m_n_out_full\u001b[49m\u001b[43m)\u001b[49m\u001b[43m,\u001b[49m\u001b[43m \u001b[49m\u001b[43mdtype\u001b[49m\u001b[38;5;241;43m=\u001b[39;49m\u001b[43mX\u001b[49m\u001b[38;5;241;43m.\u001b[39;49m\u001b[43mdtype\u001b[49m\u001b[43m,\u001b[49m\u001b[43m \u001b[49m\u001b[43morder\u001b[49m\u001b[38;5;241;43m=\u001b[39;49m\u001b[38;5;28;43mself\u001b[39;49m\u001b[38;5;241;43m.\u001b[39;49m\u001b[43morder\u001b[49m\n\u001b[0;32m    510\u001b[0m \u001b[43m    \u001b[49m\u001b[43m)\u001b[49m\n\u001b[0;32m    512\u001b[0m     \u001b[38;5;66;03m# What follows is a faster implementation of:\u001b[39;00m\n\u001b[0;32m    513\u001b[0m     \u001b[38;5;66;03m# for i, comb in enumerate(combinations):\u001b[39;00m\n\u001b[0;32m    514\u001b[0m     \u001b[38;5;66;03m#     XP[:, i] = X[:, comb].prod(1)\u001b[39;00m\n\u001b[1;32m   (...)\u001b[0m\n\u001b[0;32m    524\u001b[0m \n\u001b[0;32m    525\u001b[0m     \u001b[38;5;66;03m# degree 0 term\u001b[39;00m\n\u001b[0;32m    526\u001b[0m     \u001b[38;5;28;01mif\u001b[39;00m \u001b[38;5;28mself\u001b[39m\u001b[38;5;241m.\u001b[39minclude_bias:\n",
      "\u001b[1;31mMemoryError\u001b[0m: Unable to allocate 8.76 GiB for an array with shape (452266, 2600) and data type float64"
     ]
    }
   ],
   "source": [
    "# Tạo ra các Polynomial Features\n",
    "train_poly_fea = poly_engineer.fit_transform(train_poly_fea)\n",
    "test_poly_fea = poly_engineer.transform(test_poly_fea)\n",
    "\n",
    "print('train_poly_fea shape: ', train_poly_fea.shape)\n",
    "print('test_poly_fea shape: ', test_poly_fea.shape)"
   ]
  },
  {
   "cell_type": "code",
   "execution_count": null,
   "metadata": {},
   "outputs": [],
   "source": [
    "from sklearn.linear_model import LogisticRegression\n",
    "from sklearn.tree import DecisionTreeClassifier\n",
    "from sklearn.model_selection import RandomizedSearchCV\n",
    "\n",
    "param_distributions = {\n",
    "    'classifier__penalty': ['l2'],\n",
    "    'classifier__dual': [False],\n",
    "    'classifier__tol': [1e-3, 1e-4, 1e-5],\n",
    "    'classifier__C': [0.001, 0.01, 0.1, 1, 10, 100],\n",
    "    'classifier__fit_intercept': [True],\n",
    "    'classifier__intercept_scaling': [1],\n",
    "    'classifier__class_weight': [None, 'balanced'],\n",
    "    'classifier__solver': ['lbfgs', 'newton-cg', 'sag'],\n",
    "    'classifier__max_iter': [100, 200, 300],\n",
    "}\n",
    "\n",
    "model_pipeline = Pipeline(steps=[\n",
    "    ('classifier', LogisticRegression(random_state=42))\n",
    "])\n",
    "\n",
    "random_search = RandomizedSearchCV(\n",
    "    estimator = model_pipeline,\n",
    "    param_distributions = param_distributions,\n",
    "    n_iter = 150,  \n",
    "    cv = 5,\n",
    "    scoring = 'roc_auc',\n",
    "    random_state = 42,\n",
    "    n_jobs = -1\n",
    ")\n",
    "\n",
    "random_search.fit(X_res, y_res)\n",
    "\n",
    "best_model = random_search.best_estimator_\n",
    "y_pred_proba = best_model.predict_proba(filtered_test)[:, 1]"
   ]
  },
  {
   "cell_type": "code",
   "execution_count": null,
   "metadata": {},
   "outputs": [],
   "source": [
    "test['TARGET'] = y_pred_proba\n",
    "result = test[['SK_ID_CURR', 'TARGET']]"
   ]
  },
  {
   "cell_type": "code",
   "execution_count": null,
   "metadata": {},
   "outputs": [],
   "source": [
    "result = result.sort_values(['SK_ID_CURR'])\n",
    "result['SK_ID_CURR'] = result['SK_ID_CURR'].astype(int)\n",
    "result"
   ]
  },
  {
   "cell_type": "code",
   "execution_count": null,
   "metadata": {},
   "outputs": [],
   "source": [
    "result.to_csv('submit_7_nonmerge_lr_woe.csv', index = False)"
   ]
  }
 ],
 "metadata": {
  "kernelspec": {
   "display_name": "Python 3",
   "language": "python",
   "name": "python3"
  },
  "language_info": {
   "codemirror_mode": {
    "name": "ipython",
    "version": 3
   },
   "file_extension": ".py",
   "mimetype": "text/x-python",
   "name": "python",
   "nbconvert_exporter": "python",
   "pygments_lexer": "ipython3",
   "version": "3.12.5"
  }
 },
 "nbformat": 4,
 "nbformat_minor": 2
}
